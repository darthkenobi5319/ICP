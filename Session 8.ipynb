{
 "cells": [
  {
   "cell_type": "code",
   "execution_count": 13,
   "metadata": {
    "ExecuteTime": {
     "end_time": "2019-07-31T19:07:42.695558Z",
     "start_time": "2019-07-31T19:07:42.567012Z"
    },
    "scrolled": false
   },
   "outputs": [
    {
     "name": "stdout",
     "output_type": "stream",
     "text": [
      "{'tracked_until': None, 'solo_competitive_rank': None, 'rank_tier': 45, 'leaderboard_rank': None, 'profile': {'account_id': 122774472, 'personaname': 'King Crimson Requiem', 'name': None, 'plus': False, 'cheese': 0, 'steamid': '76561198083040200', 'avatar': 'https://steamcdn-a.akamaihd.net/steamcommunity/public/images/avatars/ab/ab9199ea4a1b46a5f3d3421eeb4590322244dceb.jpg', 'avatarmedium': 'https://steamcdn-a.akamaihd.net/steamcommunity/public/images/avatars/ab/ab9199ea4a1b46a5f3d3421eeb4590322244dceb_medium.jpg', 'avatarfull': 'https://steamcdn-a.akamaihd.net/steamcommunity/public/images/avatars/ab/ab9199ea4a1b46a5f3d3421eeb4590322244dceb_full.jpg', 'profileurl': 'https://steamcommunity.com/id/122774472/', 'last_login': '2017-10-07T16:11:13.638Z', 'loccountrycode': 'CN', 'is_contributor': False}, 'competitive_rank': None, 'mmr_estimate': {'estimate': 3079}}\n"
     ]
    }
   ],
   "source": [
    "import requests\n",
    "r = requests.get(\"https://api.opendota.com/api/players/{account_id}\".format(account_id = \"122774472\"))\n",
    "r_json = r.json()\n",
    "print(r_json)"
   ]
  },
  {
   "cell_type": "code",
   "execution_count": 11,
   "metadata": {
    "ExecuteTime": {
     "end_time": "2019-07-31T19:04:33.744593Z",
     "start_time": "2019-07-31T19:04:33.736603Z"
    }
   },
   "outputs": [],
   "source": [
    "##  711b421f9c0349dc1d4253130736be3b"
   ]
  },
  {
   "cell_type": "code",
   "execution_count": 12,
   "metadata": {
    "ExecuteTime": {
     "end_time": "2019-07-31T19:05:14.076207Z",
     "start_time": "2019-07-31T19:05:14.068237Z"
    }
   },
   "outputs": [],
   "source": [
    "api_key = \"711b421f9c0349dc1d4253130736be3b\""
   ]
  },
  {
   "cell_type": "code",
   "execution_count": 18,
   "metadata": {
    "ExecuteTime": {
     "end_time": "2019-07-31T19:13:06.004278Z",
     "start_time": "2019-07-31T19:13:05.980310Z"
    }
   },
   "outputs": [
    {
     "name": "stdout",
     "output_type": "stream",
     "text": [
      "200\n"
     ]
    }
   ],
   "source": [
    "url = \"http://api.openweathermap.org/data/2.5/weather\"\n",
    "parameters = {\"q\":\"shanghai,cn\",\n",
    "              \"APPID\":api_key}\n",
    "\n",
    "r = requests.get(url,parameters)\n",
    "print(r.status_code)"
   ]
  },
  {
   "cell_type": "code",
   "execution_count": 19,
   "metadata": {
    "ExecuteTime": {
     "end_time": "2019-07-31T19:13:09.409273Z",
     "start_time": "2019-07-31T19:13:09.401283Z"
    }
   },
   "outputs": [
    {
     "name": "stdout",
     "output_type": "stream",
     "text": [
      "{'coord': {'lon': 121.49, 'lat': 31.23}, 'weather': [{'id': 800, 'main': 'Clear', 'description': 'clear sky', 'icon': '01n'}], 'base': 'stations', 'main': {'temp': 302.22, 'pressure': 1007, 'humidity': 74, 'temp_min': 300.15, 'temp_max': 304.82}, 'visibility': 10000, 'wind': {'speed': 5, 'deg': 150}, 'clouds': {'all': 0}, 'dt': 1564600299, 'sys': {'type': 1, 'id': 9659, 'message': 0.0076, 'country': 'CN', 'sunrise': 1564607414, 'sunset': 1564656626}, 'timezone': 28800, 'id': 1796236, 'name': 'Shanghai', 'cod': 200}\n"
     ]
    }
   ],
   "source": [
    "r_json = r.json()\n",
    "print(r_json)\n"
   ]
  },
  {
   "cell_type": "code",
   "execution_count": 21,
   "metadata": {
    "ExecuteTime": {
     "end_time": "2019-07-31T19:14:16.079969Z",
     "start_time": "2019-07-31T19:14:16.067972Z"
    }
   },
   "outputs": [
    {
     "data": {
      "text/plain": [
       "{'coord': {'lon': 121.49, 'lat': 31.23},\n",
       " 'weather': [{'id': 800,\n",
       "   'main': 'Clear',\n",
       "   'description': 'clear sky',\n",
       "   'icon': '01n'}],\n",
       " 'base': 'stations',\n",
       " 'main': {'temp': 302.22,\n",
       "  'pressure': 1007,\n",
       "  'humidity': 74,\n",
       "  'temp_min': 300.15,\n",
       "  'temp_max': 304.82},\n",
       " 'visibility': 10000,\n",
       " 'wind': {'speed': 5, 'deg': 150},\n",
       " 'clouds': {'all': 0},\n",
       " 'dt': 1564600299,\n",
       " 'sys': {'type': 1,\n",
       "  'id': 9659,\n",
       "  'message': 0.0076,\n",
       "  'country': 'CN',\n",
       "  'sunrise': 1564607414,\n",
       "  'sunset': 1564656626},\n",
       " 'timezone': 28800,\n",
       " 'id': 1796236,\n",
       " 'name': 'Shanghai',\n",
       " 'cod': 200}"
      ]
     },
     "execution_count": 21,
     "metadata": {},
     "output_type": "execute_result"
    }
   ],
   "source": [
    "import json\n",
    "\n",
    "json.loads(r.text)"
   ]
  },
  {
   "cell_type": "code",
   "execution_count": 28,
   "metadata": {
    "ExecuteTime": {
     "end_time": "2019-07-31T19:30:59.219594Z",
     "start_time": "2019-07-31T19:30:59.211604Z"
    }
   },
   "outputs": [],
   "source": [
    "def getTemp(cityName,country):\n",
    "    url = \"http://api.openweathermap.org/data/2.5/weather\"\n",
    "    parameters = {\"q\":cityName + \",\" + country,\n",
    "                  \"APPID\":api_key,\n",
    "                  \"units\":\"Metric\"}\n",
    "    r = requests.get(url,parameters)\n",
    "    if r.status_code != 200:\n",
    "        return \"Error: Error code %d\" % r.status_code\n",
    "    r_json = r.json()\n",
    "    if r_json['main']['temp'] != None:\n",
    "        return \"Temperature in %s is %.2f degrees Celcius。\" % (cityName,r_json['main']['temp'])\n",
    "    else:\n",
    "        return \"Error, temperature not found!\""
   ]
  },
  {
   "cell_type": "code",
   "execution_count": 37,
   "metadata": {
    "ExecuteTime": {
     "end_time": "2019-07-31T19:34:14.886167Z",
     "start_time": "2019-07-31T19:34:14.854174Z"
    }
   },
   "outputs": [
    {
     "name": "stdout",
     "output_type": "stream",
     "text": [
      "Temperature in Moscow is 10.69 degrees Celcius。\n"
     ]
    }
   ],
   "source": [
    "print(getTemp(\"Moscow\",\"russia\"))"
   ]
  },
  {
   "cell_type": "code",
   "execution_count": 68,
   "metadata": {
    "ExecuteTime": {
     "end_time": "2019-07-31T20:23:27.526693Z",
     "start_time": "2019-07-31T20:23:27.518715Z"
    }
   },
   "outputs": [],
   "source": [
    "import datetime\n",
    "\n",
    "api_key = \"b318cf881b2e330683d6344d5062a849\"\n",
    "def getTempTime(cityName,country,timehour):\n",
    "    today = datetime.datetime.utcnow()\n",
    "    forcast = datetime.datetime(today.year,today.month,today.day,hour=timehour).timestamp()\n",
    "    url = \"http://api.openweathermap.org/data/2.5/weather\"\n",
    "    parameters = {\"q\":cityName + \",\" + country,\n",
    "                  \"dt\":str(forcast),\n",
    "                  \"APPID\":api_key,\n",
    "                  \"units\":\"Metric\"}\n",
    "    r = requests.get(url,parameters)\n",
    "    if r.status_code != 200:\n",
    "        return \"Error: Error code %d\" % r.status_code\n",
    "    r_json = r.json()\n",
    "    if r_json['main']['temp'] != None:\n",
    "        return \"Temperature in %s is %.2f degrees Celcius。\" % (cityName,r_json['main']['temp'])\n",
    "    else:\n",
    "        return \"Error, temperature not found!\"\n"
   ]
  },
  {
   "cell_type": "code",
   "execution_count": 69,
   "metadata": {
    "ExecuteTime": {
     "end_time": "2019-07-31T20:23:28.383288Z",
     "start_time": "2019-07-31T20:23:28.356360Z"
    }
   },
   "outputs": [
    {
     "ename": "KeyError",
     "evalue": "'list'",
     "output_type": "error",
     "traceback": [
      "\u001b[1;31m---------------------------------------------------------------------------\u001b[0m",
      "\u001b[1;31mKeyError\u001b[0m                                  Traceback (most recent call last)",
      "\u001b[1;32m<ipython-input-69-e3fbc995c260>\u001b[0m in \u001b[0;36m<module>\u001b[1;34m\u001b[0m\n\u001b[1;32m----> 1\u001b[1;33m \u001b[0mgetTempTime\u001b[0m\u001b[1;33m(\u001b[0m\u001b[1;34m\"Guangzhou\"\u001b[0m\u001b[1;33m,\u001b[0m\u001b[1;34m\"cn\"\u001b[0m\u001b[1;33m,\u001b[0m\u001b[1;36m12\u001b[0m\u001b[1;33m)\u001b[0m\u001b[1;33m\u001b[0m\u001b[1;33m\u001b[0m\u001b[0m\n\u001b[0m",
      "\u001b[1;32m<ipython-input-68-ad4ebfddd40f>\u001b[0m in \u001b[0;36mgetTempTime\u001b[1;34m(cityName, country, timehour)\u001b[0m\n\u001b[0;32m     15\u001b[0m     \u001b[0mr_json\u001b[0m \u001b[1;33m=\u001b[0m \u001b[0mr\u001b[0m\u001b[1;33m.\u001b[0m\u001b[0mjson\u001b[0m\u001b[1;33m(\u001b[0m\u001b[1;33m)\u001b[0m\u001b[1;33m\u001b[0m\u001b[1;33m\u001b[0m\u001b[0m\n\u001b[0;32m     16\u001b[0m     \u001b[1;32mif\u001b[0m \u001b[0mr_json\u001b[0m\u001b[1;33m[\u001b[0m\u001b[1;34m'main'\u001b[0m\u001b[1;33m]\u001b[0m\u001b[1;33m[\u001b[0m\u001b[1;34m'temp'\u001b[0m\u001b[1;33m]\u001b[0m \u001b[1;33m!=\u001b[0m \u001b[1;32mNone\u001b[0m\u001b[1;33m:\u001b[0m\u001b[1;33m\u001b[0m\u001b[1;33m\u001b[0m\u001b[0m\n\u001b[1;32m---> 17\u001b[1;33m         \u001b[1;32mreturn\u001b[0m \u001b[1;34m\"Temperature in %s is %.2f degrees Celcius。\"\u001b[0m \u001b[1;33m%\u001b[0m \u001b[1;33m(\u001b[0m\u001b[0mcityName\u001b[0m\u001b[1;33m,\u001b[0m\u001b[0mr_json\u001b[0m\u001b[1;33m[\u001b[0m\u001b[1;34m'list'\u001b[0m\u001b[1;33m]\u001b[0m\u001b[1;33m[\u001b[0m\u001b[0mo\u001b[0m\u001b[1;33m]\u001b[0m\u001b[1;33m[\u001b[0m\u001b[1;34m'main'\u001b[0m\u001b[1;33m]\u001b[0m\u001b[1;33m[\u001b[0m\u001b[1;34m'temp'\u001b[0m\u001b[1;33m]\u001b[0m\u001b[1;33m)\u001b[0m\u001b[1;33m\u001b[0m\u001b[1;33m\u001b[0m\u001b[0m\n\u001b[0m\u001b[0;32m     18\u001b[0m     \u001b[1;32melse\u001b[0m\u001b[1;33m:\u001b[0m\u001b[1;33m\u001b[0m\u001b[1;33m\u001b[0m\u001b[0m\n\u001b[0;32m     19\u001b[0m         \u001b[1;32mreturn\u001b[0m \u001b[1;34m\"Error, temperature not found!\"\u001b[0m\u001b[1;33m\u001b[0m\u001b[1;33m\u001b[0m\u001b[0m\n",
      "\u001b[1;31mKeyError\u001b[0m: 'list'"
     ]
    }
   ],
   "source": [
    "getTempTime(\"Guangzhou\",\"cn\",12)"
   ]
  },
  {
   "cell_type": "code",
   "execution_count": 75,
   "metadata": {
    "ExecuteTime": {
     "end_time": "2019-07-31T20:27:55.796155Z",
     "start_time": "2019-07-31T20:27:55.661016Z"
    }
   },
   "outputs": [],
   "source": [
    "cityName = \"Guangzhou\"\n",
    "country = \"cn\"\n",
    "today = datetime.datetime.utcnow()\n",
    "forcast = datetime.datetime(today.year,today.month,today.day,hour=12).timestamp()\n",
    "url = \"http://api.openweathermap.org/data/2.5/forcas\"\n",
    "parameters = {\"q\":cityName + \",\" + country,\n",
    "                  \"dt\":str(forcast),\n",
    "                  \"APPID\":api_key,\n",
    "                  \"units\":\"Metric\"}\n",
    "r = requests.get(url,parameters)"
   ]
  },
  {
   "cell_type": "code",
   "execution_count": 76,
   "metadata": {
    "ExecuteTime": {
     "end_time": "2019-07-31T20:27:56.721525Z",
     "start_time": "2019-07-31T20:27:56.717536Z"
    }
   },
   "outputs": [
    {
     "name": "stdout",
     "output_type": "stream",
     "text": [
      "{'coord': {'lon': 113.26, 'lat': 23.13}, 'weather': [{'id': 802, 'main': 'Clouds', 'description': 'scattered clouds', 'icon': '03n'}], 'base': 'stations', 'main': {'temp': 25.77, 'pressure': 1000, 'humidity': 88, 'temp_min': 25, 'temp_max': 26.67}, 'visibility': 10000, 'wind': {'speed': 4, 'deg': 60}, 'clouds': {'all': 40}, 'dt': 1564604875, 'sys': {'type': 1, 'id': 9620, 'message': 0.0069, 'country': 'CN', 'sunrise': 1564610231, 'sunset': 1564657759}, 'timezone': 28800, 'id': 1809858, 'name': 'Guangzhou', 'cod': 200}\n"
     ]
    }
   ],
   "source": [
    "print(r.json())"
   ]
  },
  {
   "cell_type": "code",
   "execution_count": 74,
   "metadata": {
    "ExecuteTime": {
     "end_time": "2019-07-31T20:27:41.956260Z",
     "start_time": "2019-07-31T20:27:41.950276Z"
    }
   },
   "outputs": [
    {
     "name": "stdout",
     "output_type": "stream",
     "text": [
      "1564588800.0\n"
     ]
    }
   ],
   "source": [
    "today = datetime.datetime.utcnow()\n",
    "forcast = datetime.datetime(today.year,today.month,today.day,hour=12).timestamp()\n",
    "print(forcast)"
   ]
  },
  {
   "cell_type": "code",
   "execution_count": null,
   "metadata": {},
   "outputs": [],
   "source": []
  }
 ],
 "metadata": {
  "kernelspec": {
   "display_name": "Python 3",
   "language": "python",
   "name": "python3"
  },
  "language_info": {
   "codemirror_mode": {
    "name": "ipython",
    "version": 3
   },
   "file_extension": ".py",
   "mimetype": "text/x-python",
   "name": "python",
   "nbconvert_exporter": "python",
   "pygments_lexer": "ipython3",
   "version": "3.7.3"
  },
  "latex_envs": {
   "LaTeX_envs_menu_present": true,
   "autoclose": false,
   "autocomplete": true,
   "bibliofile": "biblio.bib",
   "cite_by": "apalike",
   "current_citInitial": 1,
   "eqLabelWithNumbers": true,
   "eqNumInitial": 1,
   "hotkeys": {
    "equation": "Ctrl-E",
    "itemize": "Ctrl-I"
   },
   "labels_anchors": false,
   "latex_user_defs": false,
   "report_style_numbering": false,
   "user_envs_cfg": false
  },
  "toc": {
   "base_numbering": 1,
   "nav_menu": {},
   "number_sections": true,
   "sideBar": true,
   "skip_h1_title": false,
   "title_cell": "Table of Contents",
   "title_sidebar": "Contents",
   "toc_cell": false,
   "toc_position": {},
   "toc_section_display": true,
   "toc_window_display": false
  },
  "varInspector": {
   "cols": {
    "lenName": 16,
    "lenType": 16,
    "lenVar": 40
   },
   "kernels_config": {
    "python": {
     "delete_cmd_postfix": "",
     "delete_cmd_prefix": "del ",
     "library": "var_list.py",
     "varRefreshCmd": "print(var_dic_list())"
    },
    "r": {
     "delete_cmd_postfix": ") ",
     "delete_cmd_prefix": "rm(",
     "library": "var_list.r",
     "varRefreshCmd": "cat(var_dic_list()) "
    }
   },
   "types_to_exclude": [
    "module",
    "function",
    "builtin_function_or_method",
    "instance",
    "_Feature"
   ],
   "window_display": false
  }
 },
 "nbformat": 4,
 "nbformat_minor": 2
}

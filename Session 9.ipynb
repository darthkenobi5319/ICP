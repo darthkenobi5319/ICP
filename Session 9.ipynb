{
 "cells": [
  {
   "cell_type": "code",
   "execution_count": 13,
   "metadata": {
    "ExecuteTime": {
     "end_time": "2019-08-05T18:32:45.164361Z",
     "start_time": "2019-08-05T18:32:45.160335Z"
    }
   },
   "outputs": [],
   "source": [
    "key = '2AwrR9MZVgm3E9u2AjKyMPgWLN7ZJsYL'"
   ]
  },
  {
   "cell_type": "code",
   "execution_count": 21,
   "metadata": {
    "ExecuteTime": {
     "end_time": "2019-08-05T19:06:41.775604Z",
     "start_time": "2019-08-05T19:06:41.772635Z"
    }
   },
   "outputs": [],
   "source": [
    "import time"
   ]
  },
  {
   "cell_type": "code",
   "execution_count": 14,
   "metadata": {
    "ExecuteTime": {
     "end_time": "2019-08-05T18:32:45.595201Z",
     "start_time": "2019-08-05T18:32:45.591201Z"
    }
   },
   "outputs": [],
   "source": [
    "import requests"
   ]
  },
  {
   "cell_type": "code",
   "execution_count": 15,
   "metadata": {
    "ExecuteTime": {
     "end_time": "2019-08-05T18:32:46.067908Z",
     "start_time": "2019-08-05T18:32:46.062922Z"
    }
   },
   "outputs": [],
   "source": [
    "def searchRating(movieName):\n",
    "    link = 'https://api.nytimes.com/svc/movies/v2/reviews/search.json?query=%s&api-key='%movieName + key\n",
    "    r = requests.get(link)\n",
    "    if r.status_code != 200:\n",
    "        return \"Error: Error code %d\" % r.status_code\n",
    "    r_json = r.json()\n",
    "    return r_json"
   ]
  },
  {
   "cell_type": "code",
   "execution_count": 16,
   "metadata": {
    "ExecuteTime": {
     "end_time": "2019-08-05T18:32:46.943567Z",
     "start_time": "2019-08-05T18:32:46.600494Z"
    }
   },
   "outputs": [],
   "source": [
    "results = searchRating('star wars')"
   ]
  },
  {
   "cell_type": "code",
   "execution_count": 19,
   "metadata": {
    "ExecuteTime": {
     "end_time": "2019-08-05T18:42:50.443722Z",
     "start_time": "2019-08-05T18:42:50.438703Z"
    }
   },
   "outputs": [
    {
     "name": "stdout",
     "output_type": "stream",
     "text": [
      "Solo: A Star Wars Story\n",
      "Star Wars: The Last Jedi\n",
      "Rogue One: A Star Wars Story\n",
      "Star Wars: Episode VII - The Force Awakens\n",
      "Star Wars: The Clone Wars\n",
      "Star Wars: Episode II Attack of the Clones\n",
      "Star Wars: Episode I - The Phantom Menace\n",
      "Return of the Jedi\n",
      "Star Wars\n"
     ]
    }
   ],
   "source": [
    "listOfResults = results['results']\n",
    "for i in range(int(results['num_results'])):\n",
    "    print(listOfResults[i][\"display_title\"])"
   ]
  },
  {
   "cell_type": "code",
   "execution_count": 22,
   "metadata": {
    "ExecuteTime": {
     "end_time": "2019-08-05T19:08:24.936444Z",
     "start_time": "2019-08-05T19:08:24.928496Z"
    }
   },
   "outputs": [],
   "source": [
    "def searchRating(movieName):\n",
    "    has_more = True\n",
    "    count = 0\n",
    "    results = list()\n",
    "    while has_more:\n",
    "        params = {\n",
    "            'query':movieName,\n",
    "            'api-key':key,\n",
    "            'offset':str(count)\n",
    "        }\n",
    "        link = 'https://api.nytimes.com/svc/movies/v2/reviews/search.json'\n",
    "        r = requests.get(link,params)\n",
    "        if r.status_code != 200:\n",
    "            return \"Error: Error code %d\" % r.status_code\n",
    "        r_json = r.json()\n",
    "        has_more = r_json['has_more']\n",
    "        results.extend(r_json['results'])\n",
    "        count += 20\n",
    "        time.sleep(6)\n",
    "    return results"
   ]
  },
  {
   "cell_type": "code",
   "execution_count": 30,
   "metadata": {
    "ExecuteTime": {
     "end_time": "2019-08-05T19:11:45.013307Z",
     "start_time": "2019-08-05T19:11:29.306347Z"
    }
   },
   "outputs": [],
   "source": [
    "results = searchRating('manhattan')"
   ]
  },
  {
   "cell_type": "code",
   "execution_count": 31,
   "metadata": {
    "ExecuteTime": {
     "end_time": "2019-08-05T19:11:46.904573Z",
     "start_time": "2019-08-05T19:11:46.898589Z"
    }
   },
   "outputs": [
    {
     "name": "stdout",
     "output_type": "stream",
     "text": [
      "Manhattan Night\n",
      "Paris Manhattan\n",
      "Adrift in Manhattan\n",
      "Maid in Manhattan\n",
      "Night Falls on Manhattan\n",
      "Sudden Manhattan\n",
      "Manhattan Murder Mystery\n",
      "Manhattan By Numbers\n",
      "The Manhattan Project\n",
      "Manhattan\n",
      "Ciao! Manhattan\n",
      "Music in Manhattan\n",
      "Cowboy in Manhattan\n",
      "Tales of Manhattan\n",
      "Manhattan Merry-Go-Round\n",
      "Adventure in Manhattan\n",
      "Romance in Manhattan\n",
      "Manhattan Melodrama\n",
      "Child of Manhattan\n",
      "Manhattan Cocktail\n",
      "Manhattan\n"
     ]
    }
   ],
   "source": [
    "for i in results:\n",
    "    print(i['display_title'])\n",
    "    "
   ]
  },
  {
   "cell_type": "code",
   "execution_count": null,
   "metadata": {},
   "outputs": [],
   "source": []
  }
 ],
 "metadata": {
  "kernelspec": {
   "display_name": "Python 3",
   "language": "python",
   "name": "python3"
  },
  "language_info": {
   "codemirror_mode": {
    "name": "ipython",
    "version": 3
   },
   "file_extension": ".py",
   "mimetype": "text/x-python",
   "name": "python",
   "nbconvert_exporter": "python",
   "pygments_lexer": "ipython3",
   "version": "3.7.3"
  },
  "latex_envs": {
   "LaTeX_envs_menu_present": true,
   "autoclose": false,
   "autocomplete": true,
   "bibliofile": "biblio.bib",
   "cite_by": "apalike",
   "current_citInitial": 1,
   "eqLabelWithNumbers": true,
   "eqNumInitial": 1,
   "hotkeys": {
    "equation": "Ctrl-E",
    "itemize": "Ctrl-I"
   },
   "labels_anchors": false,
   "latex_user_defs": false,
   "report_style_numbering": false,
   "user_envs_cfg": false
  },
  "toc": {
   "base_numbering": 1,
   "nav_menu": {},
   "number_sections": true,
   "sideBar": true,
   "skip_h1_title": false,
   "title_cell": "Table of Contents",
   "title_sidebar": "Contents",
   "toc_cell": false,
   "toc_position": {},
   "toc_section_display": true,
   "toc_window_display": false
  },
  "varInspector": {
   "cols": {
    "lenName": 16,
    "lenType": 16,
    "lenVar": 40
   },
   "kernels_config": {
    "python": {
     "delete_cmd_postfix": "",
     "delete_cmd_prefix": "del ",
     "library": "var_list.py",
     "varRefreshCmd": "print(var_dic_list())"
    },
    "r": {
     "delete_cmd_postfix": ") ",
     "delete_cmd_prefix": "rm(",
     "library": "var_list.r",
     "varRefreshCmd": "cat(var_dic_list()) "
    }
   },
   "position": {
    "height": "298.86px",
    "left": "561.22px",
    "right": "20px",
    "top": "45px",
    "width": "582px"
   },
   "types_to_exclude": [
    "module",
    "function",
    "builtin_function_or_method",
    "instance",
    "_Feature"
   ],
   "window_display": false
  }
 },
 "nbformat": 4,
 "nbformat_minor": 2
}

{
 "cells": [
  {
   "cell_type": "code",
   "execution_count": 1,
   "metadata": {},
   "outputs": [],
   "source": [
    "import requests"
   ]
  },
  {
   "cell_type": "code",
   "execution_count": 2,
   "metadata": {},
   "outputs": [],
   "source": [
    "r = requests.get(\"http://pages.stern.nyu.edu/~marriaga\")"
   ]
  },
  {
   "cell_type": "code",
   "execution_count": 3,
   "metadata": {},
   "outputs": [
    {
     "data": {
      "text/plain": [
       "'text/html; charset=UTF-8'"
      ]
     },
     "execution_count": 3,
     "metadata": {},
     "output_type": "execute_result"
    }
   ],
   "source": [
    "r.headers['content-type']"
   ]
  },
  {
   "cell_type": "code",
   "execution_count": 4,
   "metadata": {
    "scrolled": true
   },
   "outputs": [
    {
     "name": "stdout",
     "output_type": "stream",
     "text": [
      "<HTML>\n",
      "<HEAD>\n",
      "<TITLE>Manuel Arriaga</TITLE>\n",
      "\n",
      "\n",
      "<meta charset=\"UTF-8\">\n",
      "\n",
      "<meta name=\"viewport\" content=\"width=device-width, initial-scale=1, maximum-scale=1\">\n",
      "\n",
      "<meta name=\"author\" CONTENT=\"Manuel Arriaga\">\n",
      "<meta name=\"keywords\" CONTENT=\"Manuel Arriaga\">\n",
      "<meta name=\"description\" CONTENT=\"Learn more about Manuel Arriaga's work and projects\">\n",
      "\n",
      "\n",
      "\n",
      "\n",
      "<meta property=\"og:title\"              content=\"Manuel Arriaga\" />\n",
      "<meta property=\"og:url\"                content=\"http://pages.stern.nyu.edu/~marriaga\" />\n",
      "<meta property=\"og:description\"        content=\"Manuel Arriaga\" />\n",
      "<meta property=\"og:image\"              content=\"http://pages.stern.nyu.edu/~marriaga/manuel-arriaga.jpg\"/>\n",
      "<meta property=\"og:type\"               content=\"website\" />\n",
      "<meta property=\"og:locale\"             content=\"en_US\"/>\n",
      "\n",
      "<link rel=\"stylesheet\" href=\"https://maxcdn.bootstrapcdn.com/bootstrap/3.3.7/css/bootstrap.min.css\">\n",
      "\n",
      "<link href=\"https://fonts.googleapis.com/css?family=Comfortaa\" rel=\"stylesheet\">\n",
      "\n",
      "\n",
      "<link type=\"text/css\" href=\"my.css\" rel=\"stylesheet\" />\n",
      "\n",
      "</HEAD>\n",
      "\n",
      "<BODY>\n",
      "\n",
      "<div class=\"container\" style=\"height: 100%;\">\n",
      "\n",
      "  <div class=\"row\">\n",
      "    \n",
      "    <div class=\"col-sm-12\">\n",
      "      <div class=\"foto\"><h1 class=\"vertically-center\">Manuel <br/> Arriaga</h1></div>\n",
      "    </div>      \n",
      "\n",
      "  </div>\n",
      "\n",
      "  <div class=\"row equal-height\" >\n",
      "\n",
      "    <div class=\"col-sm-4\">\n",
      "      \n",
      "      <h2 style=\"background-color: maroon;\">Academia</h2> \n",
      "      \n",
      "      <p>I am currently a clinical assistant professor at\n",
      "      <a href=\"http://www.stern.nyu.edu/\" target=\"_blank\">NYU Stern</a> and a fellow\n",
      "      of the <a href=\"http://www.cambridgedigitalinnovation.com/\" target=\"_blank\">Center for\n",
      "      Digital Innovation</a>. Between 2010 and 2013, I served on the\n",
      "      faculty of the University of Cambridge. I then joined NYU Stern\n",
      "      in 2014 as a visiting research professor.</p>\n",
      "\n",
      "      <p>For most of my career, I have focused on topics related to\n",
      "      digital technology.</p>\n",
      "    \n",
      "    </div>\n",
      "\n",
      "    <div  class=\"col-sm-4\">\n",
      "\n",
      "      <h2 style=\"background-color: green;\">Writing</h2>\n",
      "      \n",
      "      <p>In recent years, my work has shifted towards exploring\n",
      "      innovative forms of civic participation. Back in 2014, I\n",
      "      published <a\n",
      "      href=\"http://www.amazon.com/Rebooting-Democracy-Citizens-Reinventing-Politics/dp/191019817X\">Rebooting\n",
      "      Democracy: A Citizen's Guide to Reinventing Politics</a>. I am\n",
      "      now finishing a second, related book on political discourse.</p>\n",
      "\n",
      "    </div>\n",
      "\n",
      "    <div  class=\"col-sm-4\" >\n",
      "      \n",
      "      <h2 style=\"background-color: darkblue;\">Activism</h2>\n",
      "      \n",
      "      <p>I am involved in an exciting new project in Portugal. <a\n",
      "      href=\"http://www.forumdoscidadaos.pt/en\">Fórum dos Cidadãos</a>\n",
      "      aims to bring the informed, reasoned voice of ordinary citizens\n",
      "      to the public debate on important topics.</p>\n",
      "      \n",
      "      <p>Here in the US, I serve on the Board of Directors of the <a\n",
      "      href=\"http://www.policyjurygroup.org/\" target=\"_blank\">Policy\n",
      "      Jury Group</a>, an organization doing amazing work to promote\n",
      "      citizen deliberation at different levels of government.</p>\n",
      "      \n",
      "    </div>\n",
      "  </div> <!-- closes row -->\n",
      "  \n",
      "  <div class=\"row equal-height\"> <!--  second row -->\n",
      "    \n",
      "    <div  class=\"col-sm-4\">\n",
      "      \n",
      "      <h2 style=\"background-color: #E67451;\">Software</h2>\n",
      "      \n",
      "      <p>You can find the code I have written over the years on <a\n",
      "      href=\"software\">this page</a>.</p> <p>Here is an old concept\n",
      "      paper describing an <a\n",
      "      href=\"http://pages.stern.nyu.edu/~marriaga/beyond-the-hfs.pdf\">alternative\n",
      "      way to organize personal documents</a> that inspired much of\n",
      "      that code.</p> \n",
      "      \n",
      "    </div>\n",
      "    \n",
      "    <div  class=\"col-sm-4\">\n",
      "\n",
      "      <h2 style=\"background-color: purple;\">Tonic Tapes</h2>\n",
      "      \n",
      "      <p>For those of you who are interested in the live music scene\n",
      "      here in NYC, you might enjoy <a\n",
      "      href=\"http://tonictapes.org/\">this small tribute to the historic\n",
      "      music club Tonic</a>.</p>\n",
      "      \n",
      "    </div>\n",
      "\n",
      "    <div  class=\"col-sm-4\">\n",
      "      \n",
      "      <h2 style=\"background-color: #BC8F8F;\">Underlined Press</h2>\n",
      "      \n",
      "      <p>Underlined Press is a service that will <a\n",
      "      href=\"http://underlinedpress.com/\">print a beautiful custom-made\n",
      "      book containing your favorite poems, prose fragments and other\n",
      "      texts</a>.</p>\n",
      "      \n",
      "    </div>\n",
      "</div>\n",
      "  \n",
      "  <div class=\"row\"> <!-- 3rd row; must NOT apply equal-height class to this final one, otherwise the <H2> (which has a background-color) will only span part of the horizontal width of the viewport -->\n",
      "    \n",
      "    <div  class=\"col-sm-12\">\n",
      "      \n",
      "      <h2 style=\"background-color: #307D7E;\">Email</h2>\n",
      "      \n",
      "      <p>marriaga @ stern . nyu . edu</p>\n",
      "\n",
      "\n",
      "    </div>\n",
      "    \n",
      "  </div> <!-- closes row -->\n",
      "  \n",
      "</div> <!-- closes container -->\n",
      "\n",
      "</BODY>\n",
      "\n",
      "</HTML>\n",
      "\n"
     ]
    }
   ],
   "source": [
    "print(r.text)"
   ]
  },
  {
   "cell_type": "code",
   "execution_count": 5,
   "metadata": {},
   "outputs": [],
   "source": [
    "html = r.text"
   ]
  },
  {
   "cell_type": "code",
   "execution_count": 6,
   "metadata": {},
   "outputs": [],
   "source": [
    "import bs4"
   ]
  },
  {
   "cell_type": "code",
   "execution_count": 8,
   "metadata": {},
   "outputs": [],
   "source": [
    "soup = bs4.BeautifulSoup(html,'html.parser')"
   ]
  },
  {
   "cell_type": "code",
   "execution_count": 9,
   "metadata": {
    "scrolled": false
   },
   "outputs": [
    {
     "name": "stdout",
     "output_type": "stream",
     "text": [
      "<html>\n",
      " <head>\n",
      "  <title>\n",
      "   Manuel Arriaga\n",
      "  </title>\n",
      "  <meta charset=\"utf-8\"/>\n",
      "  <meta content=\"width=device-width, initial-scale=1, maximum-scale=1\" name=\"viewport\"/>\n",
      "  <meta content=\"Manuel Arriaga\" name=\"author\"/>\n",
      "  <meta content=\"Manuel Arriaga\" name=\"keywords\"/>\n",
      "  <meta content=\"Learn more about Manuel Arriaga's work and projects\" name=\"description\"/>\n",
      "  <meta content=\"Manuel Arriaga\" property=\"og:title\">\n",
      "   <meta content=\"http://pages.stern.nyu.edu/~marriaga\" property=\"og:url\">\n",
      "    <meta content=\"Manuel Arriaga\" property=\"og:description\">\n",
      "     <meta content=\"http://pages.stern.nyu.edu/~marriaga/manuel-arriaga.jpg\" property=\"og:image\">\n",
      "      <meta content=\"website\" property=\"og:type\">\n",
      "       <meta content=\"en_US\" property=\"og:locale\"/>\n",
      "       <link href=\"https://maxcdn.bootstrapcdn.com/bootstrap/3.3.7/css/bootstrap.min.css\" rel=\"stylesheet\"/>\n",
      "       <link href=\"https://fonts.googleapis.com/css?family=Comfortaa\" rel=\"stylesheet\"/>\n",
      "       <link href=\"my.css\" rel=\"stylesheet\" type=\"text/css\">\n",
      "       </link>\n",
      "      </meta>\n",
      "     </meta>\n",
      "    </meta>\n",
      "   </meta>\n",
      "  </meta>\n",
      " </head>\n",
      " <body>\n",
      "  <div class=\"container\" style=\"height: 100%;\">\n",
      "   <div class=\"row\">\n",
      "    <div class=\"col-sm-12\">\n",
      "     <div class=\"foto\">\n",
      "      <h1 class=\"vertically-center\">\n",
      "       Manuel\n",
      "       <br/>\n",
      "       Arriaga\n",
      "      </h1>\n",
      "     </div>\n",
      "    </div>\n",
      "   </div>\n",
      "   <div class=\"row equal-height\">\n",
      "    <div class=\"col-sm-4\">\n",
      "     <h2 style=\"background-color: maroon;\">\n",
      "      Academia\n",
      "     </h2>\n",
      "     <p>\n",
      "      I am currently a clinical assistant professor at\n",
      "      <a href=\"http://www.stern.nyu.edu/\" target=\"_blank\">\n",
      "       NYU Stern\n",
      "      </a>\n",
      "      and a fellow\n",
      "      of the\n",
      "      <a href=\"http://www.cambridgedigitalinnovation.com/\" target=\"_blank\">\n",
      "       Center for\n",
      "      Digital Innovation\n",
      "      </a>\n",
      "      . Between 2010 and 2013, I served on the\n",
      "      faculty of the University of Cambridge. I then joined NYU Stern\n",
      "      in 2014 as a visiting research professor.\n",
      "     </p>\n",
      "     <p>\n",
      "      For most of my career, I have focused on topics related to\n",
      "      digital technology.\n",
      "     </p>\n",
      "    </div>\n",
      "    <div class=\"col-sm-4\">\n",
      "     <h2 style=\"background-color: green;\">\n",
      "      Writing\n",
      "     </h2>\n",
      "     <p>\n",
      "      In recent years, my work has shifted towards exploring\n",
      "      innovative forms of civic participation. Back in 2014, I\n",
      "      published\n",
      "      <a href=\"http://www.amazon.com/Rebooting-Democracy-Citizens-Reinventing-Politics/dp/191019817X\">\n",
      "       Rebooting\n",
      "      Democracy: A Citizen's Guide to Reinventing Politics\n",
      "      </a>\n",
      "      . I am\n",
      "      now finishing a second, related book on political discourse.\n",
      "     </p>\n",
      "    </div>\n",
      "    <div class=\"col-sm-4\">\n",
      "     <h2 style=\"background-color: darkblue;\">\n",
      "      Activism\n",
      "     </h2>\n",
      "     <p>\n",
      "      I am involved in an exciting new project in Portugal.\n",
      "      <a href=\"http://www.forumdoscidadaos.pt/en\">\n",
      "       Fórum dos Cidadãos\n",
      "      </a>\n",
      "      aims to bring the informed, reasoned voice of ordinary citizens\n",
      "      to the public debate on important topics.\n",
      "     </p>\n",
      "     <p>\n",
      "      Here in the US, I serve on the Board of Directors of the\n",
      "      <a href=\"http://www.policyjurygroup.org/\" target=\"_blank\">\n",
      "       Policy\n",
      "      Jury Group\n",
      "      </a>\n",
      "      , an organization doing amazing work to promote\n",
      "      citizen deliberation at different levels of government.\n",
      "     </p>\n",
      "    </div>\n",
      "   </div>\n",
      "   <!-- closes row -->\n",
      "   <div class=\"row equal-height\">\n",
      "    <!--  second row -->\n",
      "    <div class=\"col-sm-4\">\n",
      "     <h2 style=\"background-color: #E67451;\">\n",
      "      Software\n",
      "     </h2>\n",
      "     <p>\n",
      "      You can find the code I have written over the years on\n",
      "      <a href=\"software\">\n",
      "       this page\n",
      "      </a>\n",
      "      .\n",
      "     </p>\n",
      "     <p>\n",
      "      Here is an old concept\n",
      "      paper describing an\n",
      "      <a href=\"http://pages.stern.nyu.edu/~marriaga/beyond-the-hfs.pdf\">\n",
      "       alternative\n",
      "      way to organize personal documents\n",
      "      </a>\n",
      "      that inspired much of\n",
      "      that code.\n",
      "     </p>\n",
      "    </div>\n",
      "    <div class=\"col-sm-4\">\n",
      "     <h2 style=\"background-color: purple;\">\n",
      "      Tonic Tapes\n",
      "     </h2>\n",
      "     <p>\n",
      "      For those of you who are interested in the live music scene\n",
      "      here in NYC, you might enjoy\n",
      "      <a href=\"http://tonictapes.org/\">\n",
      "       this small tribute to the historic\n",
      "      music club Tonic\n",
      "      </a>\n",
      "      .\n",
      "     </p>\n",
      "    </div>\n",
      "    <div class=\"col-sm-4\">\n",
      "     <h2 style=\"background-color: #BC8F8F;\">\n",
      "      Underlined Press\n",
      "     </h2>\n",
      "     <p>\n",
      "      Underlined Press is a service that will\n",
      "      <a href=\"http://underlinedpress.com/\">\n",
      "       print a beautiful custom-made\n",
      "      book containing your favorite poems, prose fragments and other\n",
      "      texts\n",
      "      </a>\n",
      "      .\n",
      "     </p>\n",
      "    </div>\n",
      "   </div>\n",
      "   <div class=\"row\">\n",
      "    <!-- 3rd row; must NOT apply equal-height class to this final one, otherwise the <H2> (which has a background-color) will only span part of the horizontal width of the viewport -->\n",
      "    <div class=\"col-sm-12\">\n",
      "     <h2 style=\"background-color: #307D7E;\">\n",
      "      Email\n",
      "     </h2>\n",
      "     <p>\n",
      "      marriaga @ stern . nyu . edu\n",
      "     </p>\n",
      "    </div>\n",
      "   </div>\n",
      "   <!-- closes row -->\n",
      "  </div>\n",
      "  <!-- closes container -->\n",
      " </body>\n",
      "</html>\n",
      "\n"
     ]
    }
   ],
   "source": [
    "print(soup.prettify())"
   ]
  },
  {
   "cell_type": "code",
   "execution_count": 10,
   "metadata": {},
   "outputs": [
    {
     "data": {
      "text/plain": [
       "<title>Manuel Arriaga</title>"
      ]
     },
     "execution_count": 10,
     "metadata": {},
     "output_type": "execute_result"
    }
   ],
   "source": [
    "soup.find('title')"
   ]
  },
  {
   "cell_type": "code",
   "execution_count": 12,
   "metadata": {},
   "outputs": [
    {
     "data": {
      "text/plain": [
       "'Manuel Arriaga'"
      ]
     },
     "execution_count": 12,
     "metadata": {},
     "output_type": "execute_result"
    }
   ],
   "source": [
    "soup.title.string"
   ]
  },
  {
   "cell_type": "code",
   "execution_count": 17,
   "metadata": {},
   "outputs": [
    {
     "name": "stdout",
     "output_type": "stream",
     "text": [
      "<h2 style=\"background-color: maroon;\">Academia</h2>\n",
      "Academia\n",
      "<h2 style=\"background-color: green;\">Writing</h2>\n",
      "Writing\n",
      "<h2 style=\"background-color: darkblue;\">Activism</h2>\n",
      "Activism\n",
      "<h2 style=\"background-color: #E67451;\">Software</h2>\n",
      "Software\n",
      "<h2 style=\"background-color: purple;\">Tonic Tapes</h2>\n",
      "Tonic Tapes\n",
      "<h2 style=\"background-color: #BC8F8F;\">Underlined Press</h2>\n",
      "Underlined Press\n",
      "<h2 style=\"background-color: #307D7E;\">Email</h2>\n",
      "Email\n"
     ]
    }
   ],
   "source": [
    "headings = soup.find_all(\"h2\")\n",
    "for i in headings:\n",
    "    print(i)\n",
    "    print(i.get_text())"
   ]
  },
  {
   "cell_type": "code",
   "execution_count": 20,
   "metadata": {},
   "outputs": [
    {
     "name": "stdout",
     "output_type": "stream",
     "text": [
      "http://www.stern.nyu.edu/\n",
      "http://www.cambridgedigitalinnovation.com/\n",
      "http://www.amazon.com/Rebooting-Democracy-Citizens-Reinventing-Politics/dp/191019817X\n",
      "http://www.forumdoscidadaos.pt/en\n",
      "http://www.policyjurygroup.org/\n",
      "software\n",
      "http://pages.stern.nyu.edu/~marriaga/beyond-the-hfs.pdf\n",
      "http://tonictapes.org/\n",
      "http://underlinedpress.com/\n"
     ]
    }
   ],
   "source": [
    "headings = soup.find_all(\"a\")\n",
    "for i in headings:\n",
    "    url = i.get('href')\n",
    "    if not url.startswith(\"http://\"):\n",
    "        if url.startswith(\"/\"):\n",
    "            u"
   ]
  },
  {
   "cell_type": "code",
   "execution_count": 24,
   "metadata": {},
   "outputs": [
    {
     "data": {
      "text/plain": [
       "{'href': 'http://www.stern.nyu.edu/', 'target': '_blank'}"
      ]
     },
     "execution_count": 24,
     "metadata": {},
     "output_type": "execute_result"
    }
   ],
   "source": [
    "headings[0].attrs"
   ]
  },
  {
   "cell_type": "code",
   "execution_count": 26,
   "metadata": {},
   "outputs": [
    {
     "data": {
      "text/plain": [
       "<a href=\"http://www.stern.nyu.edu/\" target=\"_blank\">NYU Stern</a>"
      ]
     },
     "execution_count": 26,
     "metadata": {},
     "output_type": "execute_result"
    }
   ],
   "source": [
    "headings[0]"
   ]
  },
  {
   "cell_type": "code",
   "execution_count": 54,
   "metadata": {
    "scrolled": false
   },
   "outputs": [],
   "source": [
    "r = requests.get(\"https://www.stern.nyu.edu/experience-stern/news-events\")\n",
    "html = r.text\n",
    "soup = bs4.BeautifulSoup(html,'html.parser')\n"
   ]
  },
  {
   "cell_type": "code",
   "execution_count": 60,
   "metadata": {
    "scrolled": false
   },
   "outputs": [],
   "source": [
    "news = soup.find_all(\"h2\",class_ = \"title\")\n"
   ]
  },
  {
   "cell_type": "code",
   "execution_count": 65,
   "metadata": {
    "scrolled": false
   },
   "outputs": [
    {
     "name": "stdout",
     "output_type": "stream",
     "text": [
      "<h2 class=\"title\"><a class=\"news-events\" href=\"/experience-stern/news-events/professor-susan-stehlik-shares-insights-how-world-leaders-can-effectively-use-communication\">Professor Susan Stehlik shares insights for how world leaders can effectively use communication strategies at the G20 Summit</a></h2>\n",
      "https://www.stern.nyu.edu/experience-stern/news-events/professor-susan-stehlik-shares-insights-how-world-leaders-can-effectively-use-communication\n",
      "Professor Susan Stehlik shares insights for how world leaders can effectively use communication strategies at the G20 Summit\n"
     ]
    }
   ],
   "source": [
    "for i in news:\n",
    "    if \"Stehlik\" in  i.string:\n",
    "        url =  i.a[\"href\"]\n",
    "        if not (url.startswith(\"http://\") or url.startswith(\"https://\")):\n",
    "            if url.startswith(\"/\"):\n",
    "                url = \"https://www.stern.nyu.edu\" + url\n",
    "            else:\n",
    "                url = \"http://\" + url\n",
    "        print(url)\n",
    "        print(i.string)"
   ]
  },
  {
   "cell_type": "code",
   "execution_count": null,
   "metadata": {},
   "outputs": [],
   "source": []
  }
 ],
 "metadata": {
  "kernelspec": {
   "display_name": "Python 3",
   "language": "python",
   "name": "python3"
  },
  "language_info": {
   "codemirror_mode": {
    "name": "ipython",
    "version": 3
   },
   "file_extension": ".py",
   "mimetype": "text/x-python",
   "name": "python",
   "nbconvert_exporter": "python",
   "pygments_lexer": "ipython3",
   "version": "3.7.3"
  }
 },
 "nbformat": 4,
 "nbformat_minor": 2
}

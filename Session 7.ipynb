{
 "cells": [
  {
   "cell_type": "code",
   "execution_count": 36,
   "metadata": {
    "ExecuteTime": {
     "end_time": "2019-07-29T21:17:37.947837Z",
     "start_time": "2019-07-29T21:17:33.314856Z"
    }
   },
   "outputs": [
    {
     "name": "stdout",
     "output_type": "stream",
     "text": [
      "What do you want to look up?sewage pump\n"
     ]
    }
   ],
   "source": [
    "import bs4\n",
    "import requests\n",
    "url = \"https://newyork.craigslist.org/search/sss\"\n",
    "search_params = {\"query\": search(),\n",
    "                 \"sort\": \"rel\"\n",
    "}\n",
    "r = requests.get(url,search_params)\n",
    "if r.status_code != 200:\n",
    "    print(\"Page not found!\")\n",
    "html = r.text\n",
    "soup = bs4.BeautifulSoup(html,'html.parser')"
   ]
  },
  {
   "cell_type": "code",
   "execution_count": 7,
   "metadata": {
    "ExecuteTime": {
     "end_time": "2019-07-29T20:43:38.011713Z",
     "start_time": "2019-07-29T20:43:38.006760Z"
    }
   },
   "outputs": [],
   "source": [
    "def search():\n",
    "    string = input(\"What do you want to look up?\")\n",
    "    return string"
   ]
  },
  {
   "cell_type": "code",
   "execution_count": 37,
   "metadata": {
    "ExecuteTime": {
     "end_time": "2019-07-29T21:17:42.061013Z",
     "start_time": "2019-07-29T21:17:42.049061Z"
    }
   },
   "outputs": [],
   "source": [
    "items = soup.find_all(\"span\",class_ = \"result-meta\")"
   ]
  },
  {
   "cell_type": "code",
   "execution_count": 39,
   "metadata": {
    "ExecuteTime": {
     "end_time": "2019-07-29T21:18:11.591559Z",
     "start_time": "2019-07-29T21:18:11.586572Z"
    }
   },
   "outputs": [
    {
     "name": "stdout",
     "output_type": "stream",
     "text": [
      "<p class=\"result-info\">\n",
      "<span class=\"icon icon-star\" role=\"button\">\n",
      "<span class=\"screen-reader-text\">favorite this post</span>\n",
      "</span>\n",
      "<time class=\"result-date\" datetime=\"2019-07-27 06:32\" title=\"Sat 27 Jul 06:32:46 AM\">Jul 27</time>\n",
      "<a class=\"result-title hdrlnk\" data-id=\"6938806277\" href=\"https://newyork.craigslist.org/lgi/tls/d/new-hyde-park-zoeller-1-2-hp-automatic/6938806277.html\">Zoeller 1/2 HP Automatic Submersible Sewage Pump</a>\n",
      "<span class=\"result-meta\">\n",
      "<span class=\"result-price\">$859</span>\n",
      "<span class=\"result-tags\">\n",
      "<span class=\"pictag\">pic</span>\n",
      "</span>\n",
      "<span class=\"banish icon icon-trash\" role=\"button\">\n",
      "<span class=\"screen-reader-text\">hide this posting</span>\n",
      "</span>\n",
      "<span aria-hidden=\"true\" class=\"unbanish icon icon-trash red\" role=\"button\"></span>\n",
      "<a class=\"restore-link\" href=\"#\">\n",
      "<span class=\"restore-narrow-text\">restore</span>\n",
      "<span class=\"restore-wide-text\">restore this posting</span>\n",
      "</a>\n",
      "</span>\n",
      "</p>\n"
     ]
    }
   ],
   "source": [
    "for i in items:\n",
    "    print(i.parent.find(\"a\",class_ = \"result-title hdrlnk\" ))\n",
    "    break"
   ]
  },
  {
   "cell_type": "code",
   "execution_count": 25,
   "metadata": {
    "ExecuteTime": {
     "end_time": "2019-07-29T20:51:52.147826Z",
     "start_time": "2019-07-29T20:51:52.142840Z"
    }
   },
   "outputs": [],
   "source": [
    "def recordPrice(items):\n",
    "    prices = []\n",
    "    for i in items:\n",
    "        nearby = i.find(\"span\",class_ = \"nearby\")\n",
    "        if nearby == None:\n",
    "            prices.append(int(i.find(\"span\",class_=\"result-price\").text.strip(\"$\")))\n",
    "        "
   ]
  },
  {
   "cell_type": "code",
   "execution_count": 35,
   "metadata": {
    "ExecuteTime": {
     "end_time": "2019-07-29T21:08:56.005907Z",
     "start_time": "2019-07-29T21:08:56.001885Z"
    }
   },
   "outputs": [],
   "source": [
    "def displayPrices():\n",
    "    print(prices)\n",
    "def calculateAverage():\n",
    "    print(sum(prices)/len(prices))"
   ]
  },
  {
   "cell_type": "code",
   "execution_count": 30,
   "metadata": {
    "ExecuteTime": {
     "end_time": "2019-07-29T20:59:56.619289Z",
     "start_time": "2019-07-29T20:59:56.614304Z"
    },
    "scrolled": false
   },
   "outputs": [],
   "source": [
    "def iterate():\n",
    "    link = soup.find(\"link\",rel=\"next\")\n",
    "    if link != None:\n",
    "        nextUrl = link['href']\n",
    "        return nextUrl\n",
    "    return None"
   ]
  },
  {
   "cell_type": "code",
   "execution_count": 31,
   "metadata": {
    "ExecuteTime": {
     "end_time": "2019-07-29T21:00:32.249822Z",
     "start_time": "2019-07-29T21:00:27.230960Z"
    }
   },
   "outputs": [
    {
     "name": "stdout",
     "output_type": "stream",
     "text": [
      "What do you want to look up?book\n"
     ]
    }
   ],
   "source": [
    "\n",
    "\n",
    "def searchPage(url):\n",
    "    r = requests.get(url,search_params)\n",
    "    if r.status_code != 200:\n",
    "        print(\"Page not found!\")\n",
    "    html = r.text\n",
    "    soup = bs4.BeautifulSoup(html,'html.parser')\n",
    "    items = soup.find_all(\"span\",class_ = \"result-meta\")\n",
    "    return items"
   ]
  },
  {
   "cell_type": "code",
   "execution_count": 33,
   "metadata": {
    "ExecuteTime": {
     "end_time": "2019-07-29T21:05:30.254249Z",
     "start_time": "2019-07-29T21:05:30.250225Z"
    }
   },
   "outputs": [],
   "source": [
    "url = iterate()"
   ]
  },
  {
   "cell_type": "code",
   "execution_count": 34,
   "metadata": {
    "ExecuteTime": {
     "end_time": "2019-07-29T21:05:39.688574Z",
     "start_time": "2019-07-29T21:05:39.684612Z"
    }
   },
   "outputs": [
    {
     "name": "stdout",
     "output_type": "stream",
     "text": [
      "https://newyork.craigslist.org/search/sss?s=120&query=book&sort=rel\n"
     ]
    }
   ],
   "source": [
    "print(nextPage)"
   ]
  },
  {
   "cell_type": "code",
   "execution_count": 40,
   "metadata": {
    "ExecuteTime": {
     "end_time": "2019-07-29T21:22:18.321645Z",
     "start_time": "2019-07-29T21:22:14.322710Z"
    }
   },
   "outputs": [
    {
     "name": "stdout",
     "output_type": "stream",
     "text": [
      "What do you want to look up?sewage pump\n"
     ]
    },
    {
     "ename": "NameError",
     "evalue": "name 'searchPage' is not defined",
     "output_type": "error",
     "traceback": [
      "\u001b[1;31m---------------------------------------------------------------------------\u001b[0m",
      "\u001b[1;31mNameError\u001b[0m                                 Traceback (most recent call last)",
      "\u001b[1;32m<ipython-input-40-f91df3c43913>\u001b[0m in \u001b[0;36m<module>\u001b[1;34m\u001b[0m\n\u001b[0;32m      3\u001b[0m                      \"sort\": \"rel\"}\n\u001b[0;32m      4\u001b[0m \u001b[1;32mwhile\u001b[0m \u001b[0murl\u001b[0m \u001b[1;33m!=\u001b[0m \u001b[1;32mNone\u001b[0m\u001b[1;33m:\u001b[0m\u001b[1;33m\u001b[0m\u001b[1;33m\u001b[0m\u001b[0m\n\u001b[1;32m----> 5\u001b[1;33m     \u001b[0mitems\u001b[0m \u001b[1;33m=\u001b[0m \u001b[0msearchPage\u001b[0m\u001b[1;33m(\u001b[0m\u001b[0murl\u001b[0m\u001b[1;33m)\u001b[0m\u001b[1;33m\u001b[0m\u001b[1;33m\u001b[0m\u001b[0m\n\u001b[0m\u001b[0;32m      6\u001b[0m     \u001b[0murl\u001b[0m \u001b[1;33m=\u001b[0m \u001b[0miterate\u001b[0m\u001b[1;33m(\u001b[0m\u001b[1;33m)\u001b[0m\u001b[1;33m\u001b[0m\u001b[1;33m\u001b[0m\u001b[0m\n\u001b[0;32m      7\u001b[0m     \u001b[0mrecordPrice\u001b[0m\u001b[1;33m(\u001b[0m\u001b[0mitems\u001b[0m\u001b[1;33m)\u001b[0m\u001b[1;33m\u001b[0m\u001b[1;33m\u001b[0m\u001b[0m\n",
      "\u001b[1;31mNameError\u001b[0m: name 'searchPage' is not defined"
     ]
    }
   ],
   "source": [
    "url = \"https://newyork.craigslist.org/search/sss\"\n",
    "search_params = {\"query\": search(),\n",
    "                     \"sort\": \"rel\"}\n",
    "while url != None:\n",
    "    items = searchPage(url)\n",
    "    url = iterate()\n",
    "    recordPrice(items)\n",
    "    calculateAverage()"
   ]
  },
  {
   "cell_type": "code",
   "execution_count": null,
   "metadata": {},
   "outputs": [],
   "source": []
  }
 ],
 "metadata": {
  "kernelspec": {
   "display_name": "Python 3",
   "language": "python",
   "name": "python3"
  },
  "language_info": {
   "codemirror_mode": {
    "name": "ipython",
    "version": 3
   },
   "file_extension": ".py",
   "mimetype": "text/x-python",
   "name": "python",
   "nbconvert_exporter": "python",
   "pygments_lexer": "ipython3",
   "version": "3.7.3"
  },
  "latex_envs": {
   "LaTeX_envs_menu_present": true,
   "autoclose": false,
   "autocomplete": true,
   "bibliofile": "biblio.bib",
   "cite_by": "apalike",
   "current_citInitial": 1,
   "eqLabelWithNumbers": true,
   "eqNumInitial": 1,
   "hotkeys": {
    "equation": "Ctrl-E",
    "itemize": "Ctrl-I"
   },
   "labels_anchors": false,
   "latex_user_defs": false,
   "report_style_numbering": false,
   "user_envs_cfg": false
  },
  "toc": {
   "base_numbering": 1,
   "nav_menu": {},
   "number_sections": true,
   "sideBar": true,
   "skip_h1_title": false,
   "title_cell": "Table of Contents",
   "title_sidebar": "Contents",
   "toc_cell": false,
   "toc_position": {},
   "toc_section_display": true,
   "toc_window_display": false
  },
  "varInspector": {
   "cols": {
    "lenName": 16,
    "lenType": 16,
    "lenVar": 40
   },
   "kernels_config": {
    "python": {
     "delete_cmd_postfix": "",
     "delete_cmd_prefix": "del ",
     "library": "var_list.py",
     "varRefreshCmd": "print(var_dic_list())"
    },
    "r": {
     "delete_cmd_postfix": ") ",
     "delete_cmd_prefix": "rm(",
     "library": "var_list.r",
     "varRefreshCmd": "cat(var_dic_list()) "
    }
   },
   "types_to_exclude": [
    "module",
    "function",
    "builtin_function_or_method",
    "instance",
    "_Feature"
   ],
   "window_display": false
  }
 },
 "nbformat": 4,
 "nbformat_minor": 2
}

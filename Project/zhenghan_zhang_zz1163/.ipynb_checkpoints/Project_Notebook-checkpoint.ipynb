{
 "cells": [
  {
   "cell_type": "markdown",
   "metadata": {
    "_uuid": "9853586a0dc75ce39e7c7ffcde1eb4d47c6fb02e"
   },
   "source": [
    "# Import Necessary Packages"
   ]
  },
  {
   "cell_type": "code",
   "execution_count": 1,
   "metadata": {
    "ExecuteTime": {
     "end_time": "2019-08-14T03:48:30.394016Z",
     "start_time": "2019-08-14T03:48:23.719842Z"
    },
    "_cell_guid": "0c233e05-c63d-4866-96dc-bb38d444bf84",
    "_uuid": "5464dc4b196dc4c8dd0323bbd71b75724113e2af"
   },
   "outputs": [
    {
     "name": "stderr",
     "output_type": "stream",
     "text": [
      "Using TensorFlow backend.\n"
     ]
    }
   ],
   "source": [
    "import numpy as np\n",
    "import pandas as pd \n",
    "import matplotlib.pyplot as plt\n",
    "from sklearn.utils import shuffle\n",
    "import h5py\n",
    "from sklearn.model_selection import train_test_split\n",
    "from keras.layers import Dense,Dropout\n",
    "from keras.models import Sequential\n",
    "from keras.regularizers import l2\n",
    "import matplotlib.pyplot as plt"
   ]
  },
  {
   "cell_type": "code",
   "execution_count": 2,
   "metadata": {
    "ExecuteTime": {
     "end_time": "2019-08-14T03:48:30.787957Z",
     "start_time": "2019-08-14T03:48:30.397962Z"
    }
   },
   "outputs": [],
   "source": [
    "import seaborn as sns\n",
    "from keras.models import load_model"
   ]
  },
  {
   "cell_type": "markdown",
   "metadata": {
    "_uuid": "819472385a23f3fd5aaf4172b4f8db227cf5271f"
   },
   "source": [
    "# Data handling\n",
    "\n",
    "Here are all of the data we are using for this project:\n",
    "\n",
    "\n",
    "Note that these data are supposed to be GLOBAL VARIABLES!!!"
   ]
  },
  {
   "cell_type": "code",
   "execution_count": 3,
   "metadata": {
    "ExecuteTime": {
     "end_time": "2019-08-14T03:48:31.073194Z",
     "start_time": "2019-08-14T03:48:30.790938Z"
    },
    "_uuid": "bf8ee168a0372e883332d6bb0ce5c89c13143650"
   },
   "outputs": [],
   "source": [
    "data_dir = 'C:/Users/admin/Documents/JupyterNotebook/ICP/Project/mens-machine-learning-competition-2019/Stage2DataFiles/'\n",
    "df_tour = pd.read_csv(data_dir + '/NCAATourneyDetailedResults.csv')\n",
    "df_reg_season = pd.read_csv(data_dir + \"/RegularSeasonDetailedResults.csv\")\n",
    "df_teams = pd.read_csv(data_dir + \"/Teams.csv\")\n",
    "df_tour_comp = pd.read_csv(data_dir + '/NCAATourneyCompactResults.csv')\n",
    "df_team_conferences = pd.read_csv(data_dir + '/TeamConferences.csv')\n",
    "df_conferences = pd.read_csv(data_dir + '/Conferences.csv')"
   ]
  },
  {
   "cell_type": "markdown",
   "metadata": {},
   "source": [
    "We call a couple of functions to see what the dataset looks like"
   ]
  },
  {
   "cell_type": "code",
   "execution_count": 4,
   "metadata": {
    "ExecuteTime": {
     "end_time": "2019-08-14T03:48:31.104101Z",
     "start_time": "2019-08-14T03:48:31.076175Z"
    },
    "_uuid": "dcb3b4cc84f09ea5af4d52da4fd970928e14bfc1"
   },
   "outputs": [
    {
     "data": {
      "text/html": [
       "<div>\n",
       "<style scoped>\n",
       "    .dataframe tbody tr th:only-of-type {\n",
       "        vertical-align: middle;\n",
       "    }\n",
       "\n",
       "    .dataframe tbody tr th {\n",
       "        vertical-align: top;\n",
       "    }\n",
       "\n",
       "    .dataframe thead th {\n",
       "        text-align: right;\n",
       "    }\n",
       "</style>\n",
       "<table border=\"1\" class=\"dataframe\">\n",
       "  <thead>\n",
       "    <tr style=\"text-align: right;\">\n",
       "      <th></th>\n",
       "      <th>Season</th>\n",
       "      <th>DayNum</th>\n",
       "      <th>WTeamID</th>\n",
       "      <th>WScore</th>\n",
       "      <th>LTeamID</th>\n",
       "      <th>LScore</th>\n",
       "      <th>WLoc</th>\n",
       "      <th>NumOT</th>\n",
       "      <th>WFGM</th>\n",
       "      <th>WFGA</th>\n",
       "      <th>...</th>\n",
       "      <th>LFGA3</th>\n",
       "      <th>LFTM</th>\n",
       "      <th>LFTA</th>\n",
       "      <th>LOR</th>\n",
       "      <th>LDR</th>\n",
       "      <th>LAst</th>\n",
       "      <th>LTO</th>\n",
       "      <th>LStl</th>\n",
       "      <th>LBlk</th>\n",
       "      <th>LPF</th>\n",
       "    </tr>\n",
       "  </thead>\n",
       "  <tbody>\n",
       "    <tr>\n",
       "      <th>0</th>\n",
       "      <td>2003</td>\n",
       "      <td>134</td>\n",
       "      <td>1421</td>\n",
       "      <td>92</td>\n",
       "      <td>1411</td>\n",
       "      <td>84</td>\n",
       "      <td>N</td>\n",
       "      <td>1</td>\n",
       "      <td>32</td>\n",
       "      <td>69</td>\n",
       "      <td>...</td>\n",
       "      <td>31</td>\n",
       "      <td>14</td>\n",
       "      <td>31</td>\n",
       "      <td>17</td>\n",
       "      <td>28</td>\n",
       "      <td>16</td>\n",
       "      <td>15</td>\n",
       "      <td>5</td>\n",
       "      <td>0</td>\n",
       "      <td>22</td>\n",
       "    </tr>\n",
       "    <tr>\n",
       "      <th>1</th>\n",
       "      <td>2003</td>\n",
       "      <td>136</td>\n",
       "      <td>1112</td>\n",
       "      <td>80</td>\n",
       "      <td>1436</td>\n",
       "      <td>51</td>\n",
       "      <td>N</td>\n",
       "      <td>0</td>\n",
       "      <td>31</td>\n",
       "      <td>66</td>\n",
       "      <td>...</td>\n",
       "      <td>16</td>\n",
       "      <td>7</td>\n",
       "      <td>7</td>\n",
       "      <td>8</td>\n",
       "      <td>26</td>\n",
       "      <td>12</td>\n",
       "      <td>17</td>\n",
       "      <td>10</td>\n",
       "      <td>3</td>\n",
       "      <td>15</td>\n",
       "    </tr>\n",
       "    <tr>\n",
       "      <th>2</th>\n",
       "      <td>2003</td>\n",
       "      <td>136</td>\n",
       "      <td>1113</td>\n",
       "      <td>84</td>\n",
       "      <td>1272</td>\n",
       "      <td>71</td>\n",
       "      <td>N</td>\n",
       "      <td>0</td>\n",
       "      <td>31</td>\n",
       "      <td>59</td>\n",
       "      <td>...</td>\n",
       "      <td>28</td>\n",
       "      <td>14</td>\n",
       "      <td>21</td>\n",
       "      <td>20</td>\n",
       "      <td>22</td>\n",
       "      <td>11</td>\n",
       "      <td>12</td>\n",
       "      <td>2</td>\n",
       "      <td>5</td>\n",
       "      <td>18</td>\n",
       "    </tr>\n",
       "    <tr>\n",
       "      <th>3</th>\n",
       "      <td>2003</td>\n",
       "      <td>136</td>\n",
       "      <td>1141</td>\n",
       "      <td>79</td>\n",
       "      <td>1166</td>\n",
       "      <td>73</td>\n",
       "      <td>N</td>\n",
       "      <td>0</td>\n",
       "      <td>29</td>\n",
       "      <td>53</td>\n",
       "      <td>...</td>\n",
       "      <td>17</td>\n",
       "      <td>12</td>\n",
       "      <td>17</td>\n",
       "      <td>14</td>\n",
       "      <td>17</td>\n",
       "      <td>20</td>\n",
       "      <td>21</td>\n",
       "      <td>6</td>\n",
       "      <td>6</td>\n",
       "      <td>21</td>\n",
       "    </tr>\n",
       "    <tr>\n",
       "      <th>4</th>\n",
       "      <td>2003</td>\n",
       "      <td>136</td>\n",
       "      <td>1143</td>\n",
       "      <td>76</td>\n",
       "      <td>1301</td>\n",
       "      <td>74</td>\n",
       "      <td>N</td>\n",
       "      <td>1</td>\n",
       "      <td>27</td>\n",
       "      <td>64</td>\n",
       "      <td>...</td>\n",
       "      <td>21</td>\n",
       "      <td>15</td>\n",
       "      <td>20</td>\n",
       "      <td>10</td>\n",
       "      <td>26</td>\n",
       "      <td>16</td>\n",
       "      <td>14</td>\n",
       "      <td>5</td>\n",
       "      <td>8</td>\n",
       "      <td>19</td>\n",
       "    </tr>\n",
       "  </tbody>\n",
       "</table>\n",
       "<p>5 rows × 34 columns</p>\n",
       "</div>"
      ],
      "text/plain": [
       "   Season  DayNum  WTeamID  WScore  LTeamID  LScore WLoc  NumOT  WFGM  WFGA  \\\n",
       "0    2003     134     1421      92     1411      84    N      1    32    69   \n",
       "1    2003     136     1112      80     1436      51    N      0    31    66   \n",
       "2    2003     136     1113      84     1272      71    N      0    31    59   \n",
       "3    2003     136     1141      79     1166      73    N      0    29    53   \n",
       "4    2003     136     1143      76     1301      74    N      1    27    64   \n",
       "\n",
       "   ...  LFGA3  LFTM  LFTA  LOR  LDR  LAst  LTO  LStl  LBlk  LPF  \n",
       "0  ...     31    14    31   17   28    16   15     5     0   22  \n",
       "1  ...     16     7     7    8   26    12   17    10     3   15  \n",
       "2  ...     28    14    21   20   22    11   12     2     5   18  \n",
       "3  ...     17    12    17   14   17    20   21     6     6   21  \n",
       "4  ...     21    15    20   10   26    16   14     5     8   19  \n",
       "\n",
       "[5 rows x 34 columns]"
      ]
     },
     "execution_count": 4,
     "metadata": {},
     "output_type": "execute_result"
    }
   ],
   "source": [
    "df_tour.head()"
   ]
  },
  {
   "cell_type": "code",
   "execution_count": 5,
   "metadata": {
    "ExecuteTime": {
     "end_time": "2019-08-14T03:48:31.127039Z",
     "start_time": "2019-08-14T03:48:31.107067Z"
    }
   },
   "outputs": [
    {
     "data": {
      "text/html": [
       "<div>\n",
       "<style scoped>\n",
       "    .dataframe tbody tr th:only-of-type {\n",
       "        vertical-align: middle;\n",
       "    }\n",
       "\n",
       "    .dataframe tbody tr th {\n",
       "        vertical-align: top;\n",
       "    }\n",
       "\n",
       "    .dataframe thead th {\n",
       "        text-align: right;\n",
       "    }\n",
       "</style>\n",
       "<table border=\"1\" class=\"dataframe\">\n",
       "  <thead>\n",
       "    <tr style=\"text-align: right;\">\n",
       "      <th></th>\n",
       "      <th>Season</th>\n",
       "      <th>DayNum</th>\n",
       "      <th>WTeamID</th>\n",
       "      <th>WScore</th>\n",
       "      <th>LTeamID</th>\n",
       "      <th>LScore</th>\n",
       "      <th>WLoc</th>\n",
       "      <th>NumOT</th>\n",
       "      <th>WFGM</th>\n",
       "      <th>WFGA</th>\n",
       "      <th>...</th>\n",
       "      <th>LFGA3</th>\n",
       "      <th>LFTM</th>\n",
       "      <th>LFTA</th>\n",
       "      <th>LOR</th>\n",
       "      <th>LDR</th>\n",
       "      <th>LAst</th>\n",
       "      <th>LTO</th>\n",
       "      <th>LStl</th>\n",
       "      <th>LBlk</th>\n",
       "      <th>LPF</th>\n",
       "    </tr>\n",
       "  </thead>\n",
       "  <tbody>\n",
       "    <tr>\n",
       "      <th>0</th>\n",
       "      <td>2003</td>\n",
       "      <td>10</td>\n",
       "      <td>1104</td>\n",
       "      <td>68</td>\n",
       "      <td>1328</td>\n",
       "      <td>62</td>\n",
       "      <td>N</td>\n",
       "      <td>0</td>\n",
       "      <td>27</td>\n",
       "      <td>58</td>\n",
       "      <td>...</td>\n",
       "      <td>10</td>\n",
       "      <td>16</td>\n",
       "      <td>22</td>\n",
       "      <td>10</td>\n",
       "      <td>22</td>\n",
       "      <td>8</td>\n",
       "      <td>18</td>\n",
       "      <td>9</td>\n",
       "      <td>2</td>\n",
       "      <td>20</td>\n",
       "    </tr>\n",
       "    <tr>\n",
       "      <th>1</th>\n",
       "      <td>2003</td>\n",
       "      <td>10</td>\n",
       "      <td>1272</td>\n",
       "      <td>70</td>\n",
       "      <td>1393</td>\n",
       "      <td>63</td>\n",
       "      <td>N</td>\n",
       "      <td>0</td>\n",
       "      <td>26</td>\n",
       "      <td>62</td>\n",
       "      <td>...</td>\n",
       "      <td>24</td>\n",
       "      <td>9</td>\n",
       "      <td>20</td>\n",
       "      <td>20</td>\n",
       "      <td>25</td>\n",
       "      <td>7</td>\n",
       "      <td>12</td>\n",
       "      <td>8</td>\n",
       "      <td>6</td>\n",
       "      <td>16</td>\n",
       "    </tr>\n",
       "    <tr>\n",
       "      <th>2</th>\n",
       "      <td>2003</td>\n",
       "      <td>11</td>\n",
       "      <td>1266</td>\n",
       "      <td>73</td>\n",
       "      <td>1437</td>\n",
       "      <td>61</td>\n",
       "      <td>N</td>\n",
       "      <td>0</td>\n",
       "      <td>24</td>\n",
       "      <td>58</td>\n",
       "      <td>...</td>\n",
       "      <td>26</td>\n",
       "      <td>14</td>\n",
       "      <td>23</td>\n",
       "      <td>31</td>\n",
       "      <td>22</td>\n",
       "      <td>9</td>\n",
       "      <td>12</td>\n",
       "      <td>2</td>\n",
       "      <td>5</td>\n",
       "      <td>23</td>\n",
       "    </tr>\n",
       "    <tr>\n",
       "      <th>3</th>\n",
       "      <td>2003</td>\n",
       "      <td>11</td>\n",
       "      <td>1296</td>\n",
       "      <td>56</td>\n",
       "      <td>1457</td>\n",
       "      <td>50</td>\n",
       "      <td>N</td>\n",
       "      <td>0</td>\n",
       "      <td>18</td>\n",
       "      <td>38</td>\n",
       "      <td>...</td>\n",
       "      <td>22</td>\n",
       "      <td>8</td>\n",
       "      <td>15</td>\n",
       "      <td>17</td>\n",
       "      <td>20</td>\n",
       "      <td>9</td>\n",
       "      <td>19</td>\n",
       "      <td>4</td>\n",
       "      <td>3</td>\n",
       "      <td>23</td>\n",
       "    </tr>\n",
       "    <tr>\n",
       "      <th>4</th>\n",
       "      <td>2003</td>\n",
       "      <td>11</td>\n",
       "      <td>1400</td>\n",
       "      <td>77</td>\n",
       "      <td>1208</td>\n",
       "      <td>71</td>\n",
       "      <td>N</td>\n",
       "      <td>0</td>\n",
       "      <td>30</td>\n",
       "      <td>61</td>\n",
       "      <td>...</td>\n",
       "      <td>16</td>\n",
       "      <td>17</td>\n",
       "      <td>27</td>\n",
       "      <td>21</td>\n",
       "      <td>15</td>\n",
       "      <td>12</td>\n",
       "      <td>10</td>\n",
       "      <td>7</td>\n",
       "      <td>1</td>\n",
       "      <td>14</td>\n",
       "    </tr>\n",
       "  </tbody>\n",
       "</table>\n",
       "<p>5 rows × 34 columns</p>\n",
       "</div>"
      ],
      "text/plain": [
       "   Season  DayNum  WTeamID  WScore  LTeamID  LScore WLoc  NumOT  WFGM  WFGA  \\\n",
       "0    2003      10     1104      68     1328      62    N      0    27    58   \n",
       "1    2003      10     1272      70     1393      63    N      0    26    62   \n",
       "2    2003      11     1266      73     1437      61    N      0    24    58   \n",
       "3    2003      11     1296      56     1457      50    N      0    18    38   \n",
       "4    2003      11     1400      77     1208      71    N      0    30    61   \n",
       "\n",
       "   ...  LFGA3  LFTM  LFTA  LOR  LDR  LAst  LTO  LStl  LBlk  LPF  \n",
       "0  ...     10    16    22   10   22     8   18     9     2   20  \n",
       "1  ...     24     9    20   20   25     7   12     8     6   16  \n",
       "2  ...     26    14    23   31   22     9   12     2     5   23  \n",
       "3  ...     22     8    15   17   20     9   19     4     3   23  \n",
       "4  ...     16    17    27   21   15    12   10     7     1   14  \n",
       "\n",
       "[5 rows x 34 columns]"
      ]
     },
     "execution_count": 5,
     "metadata": {},
     "output_type": "execute_result"
    }
   ],
   "source": [
    "df_reg_season.head()"
   ]
  },
  {
   "cell_type": "code",
   "execution_count": 6,
   "metadata": {
    "ExecuteTime": {
     "end_time": "2019-08-14T03:48:31.138004Z",
     "start_time": "2019-08-14T03:48:31.129034Z"
    }
   },
   "outputs": [
    {
     "data": {
      "text/html": [
       "<div>\n",
       "<style scoped>\n",
       "    .dataframe tbody tr th:only-of-type {\n",
       "        vertical-align: middle;\n",
       "    }\n",
       "\n",
       "    .dataframe tbody tr th {\n",
       "        vertical-align: top;\n",
       "    }\n",
       "\n",
       "    .dataframe thead th {\n",
       "        text-align: right;\n",
       "    }\n",
       "</style>\n",
       "<table border=\"1\" class=\"dataframe\">\n",
       "  <thead>\n",
       "    <tr style=\"text-align: right;\">\n",
       "      <th></th>\n",
       "      <th>TeamID</th>\n",
       "      <th>TeamName</th>\n",
       "      <th>FirstD1Season</th>\n",
       "      <th>LastD1Season</th>\n",
       "    </tr>\n",
       "  </thead>\n",
       "  <tbody>\n",
       "    <tr>\n",
       "      <th>0</th>\n",
       "      <td>1101</td>\n",
       "      <td>Abilene Chr</td>\n",
       "      <td>2014</td>\n",
       "      <td>2019</td>\n",
       "    </tr>\n",
       "    <tr>\n",
       "      <th>1</th>\n",
       "      <td>1102</td>\n",
       "      <td>Air Force</td>\n",
       "      <td>1985</td>\n",
       "      <td>2019</td>\n",
       "    </tr>\n",
       "    <tr>\n",
       "      <th>2</th>\n",
       "      <td>1103</td>\n",
       "      <td>Akron</td>\n",
       "      <td>1985</td>\n",
       "      <td>2019</td>\n",
       "    </tr>\n",
       "    <tr>\n",
       "      <th>3</th>\n",
       "      <td>1104</td>\n",
       "      <td>Alabama</td>\n",
       "      <td>1985</td>\n",
       "      <td>2019</td>\n",
       "    </tr>\n",
       "    <tr>\n",
       "      <th>4</th>\n",
       "      <td>1105</td>\n",
       "      <td>Alabama A&amp;M</td>\n",
       "      <td>2000</td>\n",
       "      <td>2019</td>\n",
       "    </tr>\n",
       "  </tbody>\n",
       "</table>\n",
       "</div>"
      ],
      "text/plain": [
       "   TeamID     TeamName  FirstD1Season  LastD1Season\n",
       "0    1101  Abilene Chr           2014          2019\n",
       "1    1102    Air Force           1985          2019\n",
       "2    1103        Akron           1985          2019\n",
       "3    1104      Alabama           1985          2019\n",
       "4    1105  Alabama A&M           2000          2019"
      ]
     },
     "execution_count": 6,
     "metadata": {},
     "output_type": "execute_result"
    }
   ],
   "source": [
    "df_teams.head()"
   ]
  },
  {
   "cell_type": "code",
   "execution_count": 7,
   "metadata": {
    "ExecuteTime": {
     "end_time": "2019-08-14T03:48:31.207804Z",
     "start_time": "2019-08-14T03:48:31.189846Z"
    }
   },
   "outputs": [
    {
     "data": {
      "text/html": [
       "<div>\n",
       "<style scoped>\n",
       "    .dataframe tbody tr th:only-of-type {\n",
       "        vertical-align: middle;\n",
       "    }\n",
       "\n",
       "    .dataframe tbody tr th {\n",
       "        vertical-align: top;\n",
       "    }\n",
       "\n",
       "    .dataframe thead th {\n",
       "        text-align: right;\n",
       "    }\n",
       "</style>\n",
       "<table border=\"1\" class=\"dataframe\">\n",
       "  <thead>\n",
       "    <tr style=\"text-align: right;\">\n",
       "      <th></th>\n",
       "      <th>Season</th>\n",
       "      <th>DayNum</th>\n",
       "      <th>WTeamID</th>\n",
       "      <th>WScore</th>\n",
       "      <th>LTeamID</th>\n",
       "      <th>LScore</th>\n",
       "      <th>WLoc</th>\n",
       "      <th>NumOT</th>\n",
       "    </tr>\n",
       "  </thead>\n",
       "  <tbody>\n",
       "    <tr>\n",
       "      <th>0</th>\n",
       "      <td>1985</td>\n",
       "      <td>136</td>\n",
       "      <td>1116</td>\n",
       "      <td>63</td>\n",
       "      <td>1234</td>\n",
       "      <td>54</td>\n",
       "      <td>N</td>\n",
       "      <td>0</td>\n",
       "    </tr>\n",
       "    <tr>\n",
       "      <th>1</th>\n",
       "      <td>1985</td>\n",
       "      <td>136</td>\n",
       "      <td>1120</td>\n",
       "      <td>59</td>\n",
       "      <td>1345</td>\n",
       "      <td>58</td>\n",
       "      <td>N</td>\n",
       "      <td>0</td>\n",
       "    </tr>\n",
       "    <tr>\n",
       "      <th>2</th>\n",
       "      <td>1985</td>\n",
       "      <td>136</td>\n",
       "      <td>1207</td>\n",
       "      <td>68</td>\n",
       "      <td>1250</td>\n",
       "      <td>43</td>\n",
       "      <td>N</td>\n",
       "      <td>0</td>\n",
       "    </tr>\n",
       "    <tr>\n",
       "      <th>3</th>\n",
       "      <td>1985</td>\n",
       "      <td>136</td>\n",
       "      <td>1229</td>\n",
       "      <td>58</td>\n",
       "      <td>1425</td>\n",
       "      <td>55</td>\n",
       "      <td>N</td>\n",
       "      <td>0</td>\n",
       "    </tr>\n",
       "    <tr>\n",
       "      <th>4</th>\n",
       "      <td>1985</td>\n",
       "      <td>136</td>\n",
       "      <td>1242</td>\n",
       "      <td>49</td>\n",
       "      <td>1325</td>\n",
       "      <td>38</td>\n",
       "      <td>N</td>\n",
       "      <td>0</td>\n",
       "    </tr>\n",
       "  </tbody>\n",
       "</table>\n",
       "</div>"
      ],
      "text/plain": [
       "   Season  DayNum  WTeamID  WScore  LTeamID  LScore WLoc  NumOT\n",
       "0    1985     136     1116      63     1234      54    N      0\n",
       "1    1985     136     1120      59     1345      58    N      0\n",
       "2    1985     136     1207      68     1250      43    N      0\n",
       "3    1985     136     1229      58     1425      55    N      0\n",
       "4    1985     136     1242      49     1325      38    N      0"
      ]
     },
     "execution_count": 7,
     "metadata": {},
     "output_type": "execute_result"
    }
   ],
   "source": [
    "df_tour_comp.head()"
   ]
  },
  {
   "cell_type": "code",
   "execution_count": 8,
   "metadata": {
    "ExecuteTime": {
     "end_time": "2019-08-14T03:48:31.222793Z",
     "start_time": "2019-08-14T03:48:31.211786Z"
    }
   },
   "outputs": [
    {
     "data": {
      "text/html": [
       "<div>\n",
       "<style scoped>\n",
       "    .dataframe tbody tr th:only-of-type {\n",
       "        vertical-align: middle;\n",
       "    }\n",
       "\n",
       "    .dataframe tbody tr th {\n",
       "        vertical-align: top;\n",
       "    }\n",
       "\n",
       "    .dataframe thead th {\n",
       "        text-align: right;\n",
       "    }\n",
       "</style>\n",
       "<table border=\"1\" class=\"dataframe\">\n",
       "  <thead>\n",
       "    <tr style=\"text-align: right;\">\n",
       "      <th></th>\n",
       "      <th>Season</th>\n",
       "      <th>TeamID</th>\n",
       "      <th>ConfAbbrev</th>\n",
       "    </tr>\n",
       "  </thead>\n",
       "  <tbody>\n",
       "    <tr>\n",
       "      <th>0</th>\n",
       "      <td>1985</td>\n",
       "      <td>1114</td>\n",
       "      <td>a_sun</td>\n",
       "    </tr>\n",
       "    <tr>\n",
       "      <th>1</th>\n",
       "      <td>1985</td>\n",
       "      <td>1147</td>\n",
       "      <td>a_sun</td>\n",
       "    </tr>\n",
       "    <tr>\n",
       "      <th>2</th>\n",
       "      <td>1985</td>\n",
       "      <td>1204</td>\n",
       "      <td>a_sun</td>\n",
       "    </tr>\n",
       "    <tr>\n",
       "      <th>3</th>\n",
       "      <td>1985</td>\n",
       "      <td>1209</td>\n",
       "      <td>a_sun</td>\n",
       "    </tr>\n",
       "    <tr>\n",
       "      <th>4</th>\n",
       "      <td>1985</td>\n",
       "      <td>1215</td>\n",
       "      <td>a_sun</td>\n",
       "    </tr>\n",
       "  </tbody>\n",
       "</table>\n",
       "</div>"
      ],
      "text/plain": [
       "   Season  TeamID ConfAbbrev\n",
       "0    1985    1114      a_sun\n",
       "1    1985    1147      a_sun\n",
       "2    1985    1204      a_sun\n",
       "3    1985    1209      a_sun\n",
       "4    1985    1215      a_sun"
      ]
     },
     "execution_count": 8,
     "metadata": {},
     "output_type": "execute_result"
    }
   ],
   "source": [
    "df_team_conferences.head()"
   ]
  },
  {
   "cell_type": "code",
   "execution_count": 9,
   "metadata": {
    "ExecuteTime": {
     "end_time": "2019-08-14T03:48:31.234725Z",
     "start_time": "2019-08-14T03:48:31.225749Z"
    }
   },
   "outputs": [
    {
     "data": {
      "text/html": [
       "<div>\n",
       "<style scoped>\n",
       "    .dataframe tbody tr th:only-of-type {\n",
       "        vertical-align: middle;\n",
       "    }\n",
       "\n",
       "    .dataframe tbody tr th {\n",
       "        vertical-align: top;\n",
       "    }\n",
       "\n",
       "    .dataframe thead th {\n",
       "        text-align: right;\n",
       "    }\n",
       "</style>\n",
       "<table border=\"1\" class=\"dataframe\">\n",
       "  <thead>\n",
       "    <tr style=\"text-align: right;\">\n",
       "      <th></th>\n",
       "      <th>ConfAbbrev</th>\n",
       "      <th>Description</th>\n",
       "    </tr>\n",
       "  </thead>\n",
       "  <tbody>\n",
       "    <tr>\n",
       "      <th>0</th>\n",
       "      <td>a_sun</td>\n",
       "      <td>Atlantic Sun Conference</td>\n",
       "    </tr>\n",
       "    <tr>\n",
       "      <th>1</th>\n",
       "      <td>a_ten</td>\n",
       "      <td>Atlantic 10 Conference</td>\n",
       "    </tr>\n",
       "    <tr>\n",
       "      <th>2</th>\n",
       "      <td>aac</td>\n",
       "      <td>American Athletic Conference</td>\n",
       "    </tr>\n",
       "    <tr>\n",
       "      <th>3</th>\n",
       "      <td>acc</td>\n",
       "      <td>Atlantic Coast Conference</td>\n",
       "    </tr>\n",
       "    <tr>\n",
       "      <th>4</th>\n",
       "      <td>aec</td>\n",
       "      <td>America East Conference</td>\n",
       "    </tr>\n",
       "  </tbody>\n",
       "</table>\n",
       "</div>"
      ],
      "text/plain": [
       "  ConfAbbrev                   Description\n",
       "0      a_sun       Atlantic Sun Conference\n",
       "1      a_ten        Atlantic 10 Conference\n",
       "2        aac  American Athletic Conference\n",
       "3        acc     Atlantic Coast Conference\n",
       "4        aec       America East Conference"
      ]
     },
     "execution_count": 9,
     "metadata": {},
     "output_type": "execute_result"
    }
   ],
   "source": [
    "df_conferences.head()"
   ]
  },
  {
   "cell_type": "markdown",
   "metadata": {},
   "source": [
    "## Data Cleaning\n",
    "\n",
    "We clean up the dataset by joining them according to some primary keys. Specifically, This combines the complete information of teams, conferences and matchups.\n",
    "\n",
    "This is done using database managment techniques."
   ]
  },
  {
   "cell_type": "code",
   "execution_count": 10,
   "metadata": {
    "ExecuteTime": {
     "end_time": "2019-08-14T03:48:31.245695Z",
     "start_time": "2019-08-14T03:48:31.236720Z"
    }
   },
   "outputs": [],
   "source": [
    "# This function merges the dataframe of matchups with dataframes containing team info and conference info\n",
    "# @param:   a dataframe of matchups containing teamID for both teams, ConfAbbrev\n",
    "# @return:  a dataframe containing Team names and conference Names \n",
    "def joinByID(df):\n",
    "    df_teams_temp = df_teams.drop(['FirstD1Season', 'LastD1Season'], axis=1)\n",
    "    df_new = pd.merge(df,df_teams_temp ,how='left', left_on = 'WTeamID', right_on = 'TeamID')\n",
    "    df_new = df_new.drop(['TeamID'], axis=1)\n",
    "    df_new = df_new.rename(columns={\"TeamName\": \"WinningTeamName\"})\n",
    "    df_new = pd.merge(df_new,df_teams_temp ,how='left', left_on = 'LTeamID', right_on = 'TeamID')\n",
    "    df_new = df_new.drop(['TeamID'], axis=1)\n",
    "    df_new = df_new.rename(columns={\"TeamName\": \"LosingTeamName\"})\n",
    "    df_conf = pd.merge(df_team_conferences,df_conferences,how='left',left_on = 'ConfAbbrev', right_on = 'ConfAbbrev')\n",
    "    df_conf = df_conf.drop(['ConfAbbrev'], axis=1)\n",
    "    df_new = pd.merge(df_new,df_conf,how = 'left',left_on = ['Season','WTeamID'], right_on = ['Season','TeamID'])\n",
    "    df_new = df_new.drop(['TeamID'], axis=1)\n",
    "    df_new = df_new.rename(columns={\"Description\": \"WinningTeamConference\"}) \n",
    "    df_new = pd.merge(df_new,df_conf,how = 'left',left_on = ['Season','LTeamID'], right_on = ['Season','TeamID'])\n",
    "    df_new = df_new.drop(['TeamID'], axis=1)\n",
    "    df_new = df_new.rename(columns={\"Description\": \"LosingTeamConference\"})\n",
    "    return df_new\n",
    "    \n"
   ]
  },
  {
   "cell_type": "code",
   "execution_count": 11,
   "metadata": {
    "ExecuteTime": {
     "end_time": "2019-08-14T03:48:31.912911Z",
     "start_time": "2019-08-14T03:48:31.247691Z"
    }
   },
   "outputs": [],
   "source": [
    "# Three global variables\n",
    "df_tour_joined = joinByID(df_tour)\n",
    "df_reg_season_joined = joinByID(df_reg_season)\n",
    "df_tour_comp_joined = joinByID(df_tour_comp)"
   ]
  },
  {
   "cell_type": "markdown",
   "metadata": {},
   "source": [
    "# Some visualization\n",
    "\n",
    "Here we want to know some specific details about the finals: We plot the Champions and Second Places according to Teams and Conferences.\n",
    "\n",
    "As expected, Duke stood out as the strongest team, and the Atlantic Coast Conference turned out to be the best."
   ]
  },
  {
   "cell_type": "code",
   "execution_count": 12,
   "metadata": {
    "ExecuteTime": {
     "end_time": "2019-08-14T03:48:31.919893Z",
     "start_time": "2019-08-14T03:48:31.914906Z"
    }
   },
   "outputs": [],
   "source": [
    "# The final match \n",
    "df_final = df_tour_comp_joined.loc[df_tour_comp_joined.DayNum == 154]"
   ]
  },
  {
   "cell_type": "code",
   "execution_count": 13,
   "metadata": {
    "ExecuteTime": {
     "end_time": "2019-08-14T03:48:31.930863Z",
     "start_time": "2019-08-14T03:48:31.921888Z"
    }
   },
   "outputs": [],
   "source": [
    "# This function plots barplots of occurrences of champions and seconds\n",
    "# @param:   the dataframe of the final match\n",
    "# @return:  \n",
    "def plotByTeams(df_final):\n",
    "    winning = df_final.groupby('WinningTeamName').count()['WTeamID'].sort_values(ascending = False)\n",
    "    losing = df_final.groupby('LosingTeamName').count()['LTeamID'].sort_values(ascending = False)\n",
    "    X1 = winning.index.values\n",
    "    Y1 = winning\n",
    "    X2 = losing.index.values\n",
    "    Y2 = losing\n",
    "    import seaborn as sns\n",
    "    sns.set(style=\"whitegrid\")\n",
    "    f, ax = plt.subplots(1,2,figsize=(8, 10))\n",
    "    sns.set_color_codes(\"pastel\")\n",
    "    sns.barplot(x=Y1, y=X1,\n",
    "                label=\"Wins\", color=\"b\",ax = ax[0])\n",
    "    sns.set_color_codes(\"muted\")\n",
    "    sns.barplot(x=Y2, y=X2,\n",
    "                label=\"Loses\", color=\"b\",ax = ax[1])\n",
    "\n",
    "    # Add a legend and informative axis label\n",
    "    ax[0].legend(ncol=2, loc=\"lower right\", frameon=True)\n",
    "    ax[0].set(xlim=(0, 6), ylabel=\"\",\n",
    "           xlabel=\"Plot of Champions\")\n",
    "    ax[1].legend(ncol=2, loc=\"lower right\", frameon=True)\n",
    "    ax[1].set(xlim=(0, 6), ylabel=\"\",\n",
    "           xlabel=\"Plot of Second Placess\")\n",
    "    sns.despine(left=True, bottom=True)\n",
    "    return"
   ]
  },
  {
   "cell_type": "code",
   "execution_count": 14,
   "metadata": {
    "ExecuteTime": {
     "end_time": "2019-08-14T03:48:32.384683Z",
     "start_time": "2019-08-14T03:48:31.932858Z"
    }
   },
   "outputs": [
    {
     "data": {
      "image/png": "[encoded data removed]",
      "text/plain": [
       "<Figure size 576x720 with 2 Axes>"
      ]
     },
     "metadata": {},
     "output_type": "display_data"
    }
   ],
   "source": [
    "plotByTeams(df_final)"
   ]
  },
  {
   "cell_type": "code",
   "execution_count": 15,
   "metadata": {
    "ExecuteTime": {
     "end_time": "2019-08-14T03:48:32.396619Z",
     "start_time": "2019-08-14T03:48:32.386646Z"
    },
    "scrolled": false
   },
   "outputs": [],
   "source": [
    "# This function plots barplots of occurrences of champions and seconds, conference-wises\n",
    "# @param:   the dataframe of the final match\n",
    "# @return: \n",
    "def plotByConfs(df_final):\n",
    "    winning = df_final.groupby('WinningTeamConference').count()['WTeamID'].sort_values(ascending = False)\n",
    "    losing = df_final.groupby('LosingTeamConference').count()['LTeamID'].sort_values(ascending = False)\n",
    "    X1 = winning.index.values\n",
    "    Y1 = winning\n",
    "    X2 = losing.index.values\n",
    "    Y2 = losing\n",
    "    import seaborn as sns\n",
    "    sns.set(style=\"whitegrid\")\n",
    "    f, ax = plt.subplots(1,2,figsize=(8, 10))\n",
    "    sns.set_color_codes(\"pastel\")\n",
    "    sns.barplot(x=Y1, y=X1,\n",
    "                label=\"Wins\", color=\"b\",ax = ax[0])\n",
    "    sns.set_color_codes(\"muted\")\n",
    "    sns.barplot(x=Y2, y=X2,\n",
    "                label=\"Loses\", color=\"b\",ax = ax[1])\n",
    "\n",
    "    # Add a legend and informative axis label\n",
    "    ax[0].legend(ncol=2, loc=\"lower right\", frameon=True)\n",
    "    ax[0].set(xlim=(0, 6), ylabel=\"\",\n",
    "           xlabel=\"Plot of Champions\")\n",
    "    ax[1].legend(ncol=2, loc=\"lower right\", frameon=True)\n",
    "    ax[1].set(xlim=(0, 6), ylabel=\"\",\n",
    "           xlabel=\"Plot of Second Placess\")\n",
    "    sns.despine(left=True, bottom=True)\n",
    "    return"
   ]
  },
  {
   "cell_type": "code",
   "execution_count": 16,
   "metadata": {
    "ExecuteTime": {
     "end_time": "2019-08-14T03:48:32.801048Z",
     "start_time": "2019-08-14T03:48:32.399611Z"
    }
   },
   "outputs": [
    {
     "data": {
      "image/png": "[encoded data removed]",
      "text/plain": [
       "<Figure size 576x720 with 2 Axes>"
      ]
     },
     "metadata": {},
     "output_type": "display_data"
    }
   ],
   "source": [
    "plotByConfs(df_final)"
   ]
  },
  {
   "cell_type": "markdown",
   "metadata": {
    "ExecuteTime": {
     "end_time": "2019-08-14T03:20:26.575720Z",
     "start_time": "2019-08-14T03:20:26.569737Z"
    }
   },
   "source": [
    "We then attempt to illustrate the correlation between features by plotting them out"
   ]
  },
  {
   "cell_type": "code",
   "execution_count": 17,
   "metadata": {
    "ExecuteTime": {
     "end_time": "2019-08-14T03:48:32.818967Z",
     "start_time": "2019-08-14T03:48:32.803010Z"
    }
   },
   "outputs": [],
   "source": [
    "# Data for correlation inspection\n",
    "data_reg_season = df_reg_season_joined[['WScore','LScore','WFGM', 'WFGA', 'WFGM3', 'WFGA3', 'WFTM', 'WFTA', 'WOR', 'WDR',\n",
    "       'WAst', 'WTO', 'WStl', 'WBlk', 'WPF', 'LFGM', 'LFGA', 'LFGM3', 'LFGA3',\n",
    "       'LFTM', 'LFTA', 'LOR', 'LDR', 'LAst', 'LTO', 'LStl', 'LBlk', 'LPF']]"
   ]
  },
  {
   "cell_type": "code",
   "execution_count": 18,
   "metadata": {
    "ExecuteTime": {
     "end_time": "2019-08-14T03:48:32.828974Z",
     "start_time": "2019-08-14T03:48:32.821959Z"
    },
    "scrolled": false
   },
   "outputs": [],
   "source": [
    "# This function plots the heatmap of the correlation matrix.\n",
    "# @param:   the dataframe of regular season, all features.\n",
    "# @return: \n",
    "def plotCorrelation(data):\n",
    "    corr = data.corr()\n",
    "    sns.set(style=\"white\")\n",
    "\n",
    "    # Generate a mask for the upper triangle\n",
    "    mask = np.zeros_like(corr, dtype=np.bool)\n",
    "    mask[np.triu_indices_from(mask)] = True\n",
    "\n",
    "    # Set up the matplotlib figure\n",
    "    f, ax = plt.subplots(figsize=(11, 9))\n",
    "\n",
    "    # Generate a custom diverging colormap\n",
    "    cmap = sns.diverging_palette(220, 10, as_cmap=True)\n",
    "\n",
    "    # Draw the heatmap with the mask and correct aspect ratio\n",
    "    sns.heatmap(corr, mask=mask, cmap=cmap, vmax=1, center=0,\n",
    "                square=True, linewidths=.5, cbar_kws={\"shrink\": .5})\n",
    "    return"
   ]
  },
  {
   "cell_type": "code",
   "execution_count": 19,
   "metadata": {
    "ExecuteTime": {
     "end_time": "2019-08-14T03:48:33.476243Z",
     "start_time": "2019-08-14T03:48:32.831959Z"
    }
   },
   "outputs": [
    {
     "data": {
      "image/png": "[encoded data removed]",
      "text/plain": [
       "<Figure size 792x648 with 2 Axes>"
      ]
     },
     "metadata": {},
     "output_type": "display_data"
    }
   ],
   "source": [
    "plotCorrelation(data_reg_season)"
   ]
  },
  {
   "cell_type": "markdown",
   "metadata": {},
   "source": [
    "With this chart, we can infer that a team's score is based on their offensive power(mainly: FGM(Field Goals Made) and FGA(Field Goals Attempted)). Also it is most likely that the offensive power is negatively correlated with the opposing team's offensive power.\n",
    "\n",
    "# Modeling\n",
    "\n",
    "Given the variety of features, I decided to use a two-layered neural network, with two hidden layers of 100 nodes with relu activation function. And because we are doing classification, the final node uses a sigmoid. \n",
    "\n",
    "The data I used is the regular season matchup data, each match is represented as a 26 dimensional vector, each team composing of 13 features. And the matrix X is derived from stacking all matchups. Then, we do a train-test split: Train on 157507 samples, validate on 17501 samples\n",
    "\n",
    "To prevent over-fitting, at each epoch 30% of random nodes are dropped. Also for inputs we use l2 regularization."
   ]
  },
  {
   "cell_type": "code",
   "execution_count": 20,
   "metadata": {
    "ExecuteTime": {
     "end_time": "2019-08-14T03:48:33.488217Z",
     "start_time": "2019-08-14T03:48:33.479202Z"
    }
   },
   "outputs": [],
   "source": [
    "# This function generates training data (X,y)\n",
    "# The data used are regular season data (GLOBAL VARIABLE)\n",
    "# @param:   \n",
    "# @return:  tuple: (X,y) for training. need to manually use y.ravel() in training step.\n",
    "def getTrainingData():\n",
    "    df_match_data1 = df_reg_season_joined[['WFGM', 'WFGA', 'WFGM3', 'WFGA3', 'WFTM', 'WFTA', 'WOR', 'WDR',\n",
    "       'WAst', 'WTO', 'WStl', 'WBlk', 'WPF', 'LFGM', 'LFGA', 'LFGM3', 'LFGA3',\n",
    "       'LFTM', 'LFTA', 'LOR', 'LDR', 'LAst', 'LTO', 'LStl', 'LBlk', 'LPF']]\n",
    "    df_match_data2 = df_reg_season_joined[[ 'LFGM', 'LFGA', 'LFGM3', 'LFGA3',\n",
    "       'LFTM', 'LFTA', 'LOR', 'LDR', 'LAst', 'LTO', 'LStl', 'LBlk', 'LPF','WFGM', 'WFGA', 'WFGM3', 'WFGA3', 'WFTM', 'WFTA', 'WOR', 'WDR',\n",
    "       'WAst', 'WTO', 'WStl', 'WBlk', 'WPF']]\n",
    "    matrixData1 = np.matrix(df_match_data1)\n",
    "    matrixData2 = np.matrix(df_match_data2)\n",
    "    matrixData = np.concatenate((matrixData1, matrixData2), axis=0)\n",
    "    #print(matrixData.shape)\n",
    "    y = np.concatenate((np.ones((matrixData1.shape[0],1)),np.zeros((matrixData2.shape[0],1))),axis = 0)\n",
    "    #print(y.shape)\n",
    "    return matrixData,y"
   ]
  },
  {
   "cell_type": "code",
   "execution_count": 21,
   "metadata": {
    "ExecuteTime": {
     "end_time": "2019-08-14T03:48:33.503138Z",
     "start_time": "2019-08-14T03:48:33.492167Z"
    }
   },
   "outputs": [],
   "source": [
    "# This function creates a sequential model as described: two layers, 100 'relu' nodes with l2 regularization, 0.3 dropout.\n",
    "# @param:  X: the matrix of all features\n",
    "#          y: the binary variable of results(0/1)\n",
    "#          path: to save the model, provide a string of absolute path\n",
    "# @return: \n",
    "def createModel(X,y,path):\n",
    "    #defifne a sequentail Model\n",
    "    model = Sequential()\n",
    "    #Hidden Layer-1\n",
    "    model.add(Dense(100,activation='relu',input_dim = X.shape[1],kernel_regularizer=l2(0.01)))\n",
    "    model.add(Dropout(0.3, noise_shape=None, seed=None))\n",
    "\n",
    "    #Hidden Layer-2\n",
    "    model.add(Dense(100,activation = 'relu',kernel_regularizer=l2(0.01)))\n",
    "    model.add(Dropout(0.3, noise_shape=None, seed=None))\n",
    "\n",
    "    #Output layer\n",
    "    model.add(Dense(1,activation='sigmoid'))\n",
    "\n",
    "    model.compile(loss='binary_crossentropy',optimizer='adam',metrics=['accuracy'])\n",
    "    print(model.summary())\n",
    "    \n",
    "    #train-test split\n",
    "    x_train, x_test, y_train, y_test = train_test_split(X,y.ravel(),test_size=0.10)\n",
    "    print('Shapes: x_train:',x_train.shape,'y_train:',y_train.shape,'x_test:',x_test.shape,'y_test',y_test.shape,sep= ' ')\n",
    "    model_output = model.fit(x_train,y_train,epochs=100,batch_size=10,verbose=1,validation_data=(x_test,y_test),)\n",
    "    print('Training Accuracy: ',np.mean(model_output.history['acc'] ))\n",
    "    print('Validation Accuracy: ',np.mean(model_output.history['val_acc'] ))\n",
    "     \n",
    "    model.save(path)\n",
    "    return \n",
    "    "
   ]
  },
  {
   "cell_type": "markdown",
   "metadata": {},
   "source": [
    "For the data we wish to predict, we need to compose a (1,26) vector, with the first 13 features belonging to the first team and the second 13 belonging to the second team. To do so, we first calculate the average of all teams for all their 13 features."
   ]
  },
  {
   "cell_type": "code",
   "execution_count": 22,
   "metadata": {
    "ExecuteTime": {
     "end_time": "2019-08-14T03:48:33.521207Z",
     "start_time": "2019-08-14T03:48:33.507129Z"
    }
   },
   "outputs": [],
   "source": [
    "# This function gets the average of every feature of every team\n",
    "# @param:  \n",
    "# @return: dataframe: Columns: Averages of each feature; Rows: team name\n",
    "def getAverage():\n",
    "    df_winning_teams = df_reg_season_joined[['WFGM', 'WFGA', 'WFGM3', 'WFGA3', 'WFTM', 'WFTA', 'WOR', 'WDR',\n",
    "            'WAst', 'WTO', 'WStl', 'WBlk', 'WPF', 'WinningTeamName']]\n",
    "    df_losing_teams = df_reg_season_joined[['LFGM', 'LFGA', 'LFGM3', 'LFGA3', 'LFTM', 'LFTA', 'LOR', 'LDR',\n",
    "            'LAst', 'LTO', 'LStl', 'LBlk', 'LPF', 'LosingTeamName',]]\n",
    "    columnDictWin = dict()\n",
    "    columnDictLosing = dict()\n",
    "    \n",
    "    list1 = ['WFGM', 'WFGA', 'WFGM3', 'WFGA3', 'WFTM', 'WFTA', 'WOR', 'WDR',\n",
    "            'WAst', 'WTO', 'WStl', 'WBlk', 'WPF', 'WinningTeamName']\n",
    "    list2 = ['LFGM', 'LFGA', 'LFGM3', 'LFGA3', 'LFTM', 'LFTA', 'LOR', 'LDR',\n",
    "            'LAst', 'LTO', 'LStl', 'LBlk', 'LPF', 'LosingTeamName',]\n",
    "    list3 = ['FGM', 'FGA', 'FGM3', 'FGA3', 'FTM', 'FTA', 'OR', 'DR',\n",
    "            'Ast', 'TO', 'Stl', 'Blk', 'PF', 'TeamName',]\n",
    "    for i in range(len(list1)):\n",
    "        columnDictWin[list1[i]] = list3[i]\n",
    "        columnDictLosing[list2[i]] = list3[i]\n",
    "        \n",
    "    df_losing_teams = df_losing_teams.rename(columns= columnDictLosing)\n",
    "    df_winning_teams = df_winning_teams.rename(columns= columnDictWin)\n",
    "    df = pd.concat([df_winning_teams,df_losing_teams], axis = 0)\n",
    "    df = df.groupby('TeamName').mean()\n",
    "    return df"
   ]
  },
  {
   "cell_type": "code",
   "execution_count": 23,
   "metadata": {
    "ExecuteTime": {
     "end_time": "2019-08-14T03:48:33.627804Z",
     "start_time": "2019-08-14T03:48:33.527102Z"
    }
   },
   "outputs": [],
   "source": [
    "df_average = getAverage()"
   ]
  },
  {
   "cell_type": "code",
   "execution_count": 24,
   "metadata": {
    "ExecuteTime": {
     "end_time": "2019-08-14T03:48:33.647752Z",
     "start_time": "2019-08-14T03:48:33.630798Z"
    },
    "scrolled": true
   },
   "outputs": [
    {
     "data": {
      "text/html": [
       "<div>\n",
       "<style scoped>\n",
       "    .dataframe tbody tr th:only-of-type {\n",
       "        vertical-align: middle;\n",
       "    }\n",
       "\n",
       "    .dataframe tbody tr th {\n",
       "        vertical-align: top;\n",
       "    }\n",
       "\n",
       "    .dataframe thead th {\n",
       "        text-align: right;\n",
       "    }\n",
       "</style>\n",
       "<table border=\"1\" class=\"dataframe\">\n",
       "  <thead>\n",
       "    <tr style=\"text-align: right;\">\n",
       "      <th></th>\n",
       "      <th>FGM</th>\n",
       "      <th>FGA</th>\n",
       "      <th>FGM3</th>\n",
       "      <th>FGA3</th>\n",
       "      <th>FTM</th>\n",
       "      <th>FTA</th>\n",
       "      <th>OR</th>\n",
       "      <th>DR</th>\n",
       "      <th>Ast</th>\n",
       "      <th>TO</th>\n",
       "      <th>Stl</th>\n",
       "      <th>Blk</th>\n",
       "      <th>PF</th>\n",
       "    </tr>\n",
       "    <tr>\n",
       "      <th>TeamName</th>\n",
       "      <th></th>\n",
       "      <th></th>\n",
       "      <th></th>\n",
       "      <th></th>\n",
       "      <th></th>\n",
       "      <th></th>\n",
       "      <th></th>\n",
       "      <th></th>\n",
       "      <th></th>\n",
       "      <th></th>\n",
       "      <th></th>\n",
       "      <th></th>\n",
       "      <th></th>\n",
       "    </tr>\n",
       "  </thead>\n",
       "  <tbody>\n",
       "    <tr>\n",
       "      <th>Abilene Chr</th>\n",
       "      <td>23.598726</td>\n",
       "      <td>53.828025</td>\n",
       "      <td>6.942675</td>\n",
       "      <td>19.012739</td>\n",
       "      <td>13.407643</td>\n",
       "      <td>18.929936</td>\n",
       "      <td>8.382166</td>\n",
       "      <td>21.961783</td>\n",
       "      <td>12.923567</td>\n",
       "      <td>13.535032</td>\n",
       "      <td>6.808917</td>\n",
       "      <td>2.363057</td>\n",
       "      <td>21.089172</td>\n",
       "    </tr>\n",
       "    <tr>\n",
       "      <th>Air Force</th>\n",
       "      <td>21.900000</td>\n",
       "      <td>48.726531</td>\n",
       "      <td>7.479592</td>\n",
       "      <td>20.851020</td>\n",
       "      <td>12.195918</td>\n",
       "      <td>17.475510</td>\n",
       "      <td>7.210204</td>\n",
       "      <td>21.110204</td>\n",
       "      <td>13.679592</td>\n",
       "      <td>12.126531</td>\n",
       "      <td>6.248980</td>\n",
       "      <td>2.046939</td>\n",
       "      <td>17.416327</td>\n",
       "    </tr>\n",
       "    <tr>\n",
       "      <th>Akron</th>\n",
       "      <td>24.828678</td>\n",
       "      <td>56.039106</td>\n",
       "      <td>7.925512</td>\n",
       "      <td>22.184358</td>\n",
       "      <td>13.983240</td>\n",
       "      <td>20.430168</td>\n",
       "      <td>11.102421</td>\n",
       "      <td>23.271881</td>\n",
       "      <td>13.869646</td>\n",
       "      <td>12.888268</td>\n",
       "      <td>6.588454</td>\n",
       "      <td>3.471136</td>\n",
       "      <td>18.929236</td>\n",
       "    </tr>\n",
       "    <tr>\n",
       "      <th>Alabama</th>\n",
       "      <td>24.458647</td>\n",
       "      <td>55.062030</td>\n",
       "      <td>6.133459</td>\n",
       "      <td>18.110902</td>\n",
       "      <td>14.593985</td>\n",
       "      <td>21.142857</td>\n",
       "      <td>11.578947</td>\n",
       "      <td>24.618421</td>\n",
       "      <td>12.142857</td>\n",
       "      <td>13.268797</td>\n",
       "      <td>6.644737</td>\n",
       "      <td>4.486842</td>\n",
       "      <td>17.622180</td>\n",
       "    </tr>\n",
       "    <tr>\n",
       "      <th>Alabama A&amp;M</th>\n",
       "      <td>22.378788</td>\n",
       "      <td>56.279221</td>\n",
       "      <td>5.504329</td>\n",
       "      <td>18.162338</td>\n",
       "      <td>14.153680</td>\n",
       "      <td>21.636364</td>\n",
       "      <td>11.774892</td>\n",
       "      <td>23.090909</td>\n",
       "      <td>11.645022</td>\n",
       "      <td>15.376623</td>\n",
       "      <td>6.917749</td>\n",
       "      <td>3.558442</td>\n",
       "      <td>19.616883</td>\n",
       "    </tr>\n",
       "  </tbody>\n",
       "</table>\n",
       "</div>"
      ],
      "text/plain": [
       "                   FGM        FGA      FGM3       FGA3        FTM        FTA  \\\n",
       "TeamName                                                                       \n",
       "Abilene Chr  23.598726  53.828025  6.942675  19.012739  13.407643  18.929936   \n",
       "Air Force    21.900000  48.726531  7.479592  20.851020  12.195918  17.475510   \n",
       "Akron        24.828678  56.039106  7.925512  22.184358  13.983240  20.430168   \n",
       "Alabama      24.458647  55.062030  6.133459  18.110902  14.593985  21.142857   \n",
       "Alabama A&M  22.378788  56.279221  5.504329  18.162338  14.153680  21.636364   \n",
       "\n",
       "                    OR         DR        Ast         TO       Stl       Blk  \\\n",
       "TeamName                                                                      \n",
       "Abilene Chr   8.382166  21.961783  12.923567  13.535032  6.808917  2.363057   \n",
       "Air Force     7.210204  21.110204  13.679592  12.126531  6.248980  2.046939   \n",
       "Akron        11.102421  23.271881  13.869646  12.888268  6.588454  3.471136   \n",
       "Alabama      11.578947  24.618421  12.142857  13.268797  6.644737  4.486842   \n",
       "Alabama A&M  11.774892  23.090909  11.645022  15.376623  6.917749  3.558442   \n",
       "\n",
       "                    PF  \n",
       "TeamName                \n",
       "Abilene Chr  21.089172  \n",
       "Air Force    17.416327  \n",
       "Akron        18.929236  \n",
       "Alabama      17.622180  \n",
       "Alabama A&M  19.616883  "
      ]
     },
     "execution_count": 24,
     "metadata": {},
     "output_type": "execute_result"
    }
   ],
   "source": [
    "df_average.head()"
   ]
  },
  {
   "cell_type": "markdown",
   "metadata": {},
   "source": [
    "Here I would provide a file containing all team names. You may refer to the txt file for test cases."
   ]
  },
  {
   "cell_type": "code",
   "execution_count": 36,
   "metadata": {
    "ExecuteTime": {
     "end_time": "2019-08-14T03:58:36.251066Z",
     "start_time": "2019-08-14T03:58:36.246052Z"
    },
    "scrolled": false
   },
   "outputs": [],
   "source": [
    "# This function generates a txt file containing all team names\n",
    "# @param:  \n",
    "# @return: \n",
    "def getTeamNames():\n",
    "    fp = open('C:/Users/admin/Documents/JupyterNotebook/ICP/Project/mens-machine-learning-competition-2019/Stage2DataFiles/teamNames.txt','w')\n",
    "    iterable = list(df_average.index)\n",
    "    for i in iterable:\n",
    "        print(i,file = fp)\n",
    "    fp.close()\n",
    "    return"
   ]
  },
  {
   "cell_type": "code",
   "execution_count": 37,
   "metadata": {
    "ExecuteTime": {
     "end_time": "2019-08-14T03:58:43.953949Z",
     "start_time": "2019-08-14T03:58:43.948928Z"
    }
   },
   "outputs": [],
   "source": [
    "getTeamNames()"
   ]
  },
  {
   "cell_type": "markdown",
   "metadata": {},
   "source": [
    "# User Interface\n",
    "\n",
    "And here we ahve the user Interface components. "
   ]
  },
  {
   "cell_type": "code",
   "execution_count": 25,
   "metadata": {
    "ExecuteTime": {
     "end_time": "2019-08-14T03:48:33.655731Z",
     "start_time": "2019-08-14T03:48:33.650744Z"
    }
   },
   "outputs": [],
   "source": [
    "# This function gets the average of every feature of two teams in one 'imaginary' matchup\n",
    "# @param:  tuple(Team1,Team2) of both teams' name\n",
    "# @return: a (1,26) maxtrix with both team information\n",
    "def getInput(Team1,Team2):\n",
    "    team1Avg = np.matrix(df_average.loc[Team1])\n",
    "    team2Avg = np.matrix(df_average.loc[Team2])\n",
    "    modelInput = np.concatenate((team1Avg ,team2Avg), axis = 1)\n",
    "    return modelInput"
   ]
  },
  {
   "cell_type": "code",
   "execution_count": 26,
   "metadata": {
    "ExecuteTime": {
     "end_time": "2019-08-14T03:48:33.666701Z",
     "start_time": "2019-08-14T03:48:33.658723Z"
    }
   },
   "outputs": [],
   "source": [
    "# This function calls the user interface. It first trys to locate a model. If not found, it fits a model and store it locally as model.h5\n",
    "# and then loads it\n",
    "# Then it askes the user to input two team names, if entered correctly, it uses the model to predict and prints the result\n",
    "# @param:  \n",
    "# @return: \n",
    "def userInterface():\n",
    "    path = 'C:/Users/admin/Documents/JupyterNotebook/ICP/Project/mens-machine-learning-competition-2019/Stage2DataFiles/Model.h5'\n",
    "\n",
    "    try:\n",
    "        model = load_model(path)\n",
    "    except:\n",
    "        data = getTrainingData()\n",
    "        createModel(data[0],data[1],path)\n",
    "        model = load_model(path)\n",
    "    while True:\n",
    "        Team1 = input('Please Enter the first team name: ')\n",
    "        Team2 = input('Please Enter the second team name: ')\n",
    "        try:\n",
    "            model = load_model(path)\n",
    "            y = model.predict(getInput(Team1,Team2))\n",
    "        except:\n",
    "            continue\n",
    "        break\n",
    "    print(\"Estimated sigmoid output: \",y[0][0])\n",
    "    if y[0][0] >= 0.5:\n",
    "        print(Team1, 'is predicted to win.',sep = ' ')\n",
    "    elif y[0][0] <= 0.5:\n",
    "        print(Team2, 'is predicted to win.',sep = ' ')\n",
    "    else:\n",
    "        print('An error has occurred!')\n",
    "        \n",
    "    return\n",
    "        "
   ]
  },
  {
   "cell_type": "markdown",
   "metadata": {},
   "source": [
    "# Calling the user interface\n",
    "\n",
    "This is where our main executable is. It does the following:\n",
    "\n",
    "1. load the local trained model in .h5 file. If not found, train the model and store it as 'model.h5'\n",
    "\n",
    "2. ask the user to input the name of two teams. If both are correct, return a sigmoid output and print out the prediction\n",
    "\n",
    "The following is the training output of my model:"
   ]
  },
  {
   "cell_type": "code",
   "execution_count": 27,
   "metadata": {
    "ExecuteTime": {
     "end_time": "2019-08-14T03:48:33.683655Z",
     "start_time": "2019-08-14T03:48:33.673683Z"
    }
   },
   "outputs": [],
   "source": [
    "# Layer (type)                 Output Shape              Param #   \n",
    "# =================================================================\n",
    "# dense_19 (Dense)             (None, 100)               2700      \n",
    "# _________________________________________________________________\n",
    "# dropout_13 (Dropout)         (None, 100)               0         \n",
    "# _________________________________________________________________\n",
    "# dense_20 (Dense)             (None, 100)               10100     \n",
    "# _________________________________________________________________\n",
    "# dropout_14 (Dropout)         (None, 100)               0         \n",
    "# _________________________________________________________________\n",
    "# dense_21 (Dense)             (None, 1)                 101       \n",
    "# =================================================================\n",
    "# Total params: 12,901\n",
    "# Trainable params: 12,901\n",
    "# Non-trainable params: 0\n",
    "# _________________________________________________________________\n",
    "# None\n",
    "# Shapes: x_train: (157507, 26) y_train: (157507,) x_test: (17501, 26) y_test (17501,)\n",
    "# Train on 157507 samples, validate on 17501 samples\n",
    "# Epoch 1/100\n",
    "# 157507/157507 [==============================] - 25s 158us/step - loss: 0.2848 - acc: 0.9423 - val_loss: 0.1069 - val_acc: 0.9768\n",
    "# Epoch 2/100\n",
    "# 157507/157507 [==============================] - 20s 124us/step - loss: 0.1350 - acc: 0.9619 - val_loss: 0.0876 - val_acc: 0.9830\n",
    "# Epoch 3/100\n",
    "# 157507/157507 [==============================] - 18s 116us/step - loss: 0.1279 - acc: 0.9635 - val_loss: 0.0902 - val_acc: 0.9814\n",
    "# Epoch 4/100\n",
    "# 157507/157507 [==============================] - 18s 117us/step - loss: 0.1287 - acc: 0.9620 - val_loss: 0.0773 - val_acc: 0.9858\n",
    "# Epoch 5/100\n",
    "# 157507/157507 [==============================] - 19s 122us/step - loss: 0.1257 - acc: 0.9664 - val_loss: 0.0789 - val_acc: 0.9847\n",
    "# Epoch 6/100\n",
    "# 157507/157507 [==============================] - 21s 131us/step - loss: 0.1257 - acc: 0.9671 - val_loss: 0.0619 - val_acc: 0.9934\n",
    "# Epoch 7/100\n",
    "# 157507/157507 [==============================] - 19s 122us/step - loss: 0.1252 - acc: 0.9672 - val_loss: 0.1345 - val_acc: 0.9574\n",
    "# Epoch 8/100\n",
    "# 157507/157507 [==============================] - 21s 132us/step - loss: 0.1263 - acc: 0.9673 - val_loss: 0.0688 - val_acc: 0.9944\n",
    "# Epoch 9/100\n",
    "# 157507/157507 [==============================] - 19s 121us/step - loss: 0.1225 - acc: 0.9689 - val_loss: 0.1403 - val_acc: 0.9566\n",
    "# Epoch 10/100\n",
    "# 157507/157507 [==============================] - 20s 125us/step - loss: 0.1307 - acc: 0.9659 - val_loss: 0.0716 - val_acc: 0.9913\n",
    "# Epoch 11/100\n",
    "# 157507/157507 [==============================] - 20s 127us/step - loss: 0.1247 - acc: 0.9690 - val_loss: 0.0636 - val_acc: 0.9933\n",
    "# Epoch 12/100\n",
    "# 157507/157507 [==============================] - 20s 125us/step - loss: 0.1257 - acc: 0.9693 - val_loss: 0.0761 - val_acc: 0.9865\n",
    "# Epoch 13/100\n",
    "# 157507/157507 [==============================] - 19s 121us/step - loss: 0.1292 - acc: 0.9685 - val_loss: 0.1361 - val_acc: 0.9652\n",
    "# Epoch 14/100\n",
    "# 157507/157507 [==============================] - 19s 122us/step - loss: 0.1250 - acc: 0.9706 - val_loss: 0.0815 - val_acc: 0.9833\n",
    "# Epoch 15/100\n",
    "# 157507/157507 [==============================] - 19s 121us/step - loss: 0.1249 - acc: 0.9704 - val_loss: 0.0599 - val_acc: 0.9952\n",
    "# Epoch 16/100\n",
    "# 157507/157507 [==============================] - 19s 122us/step - loss: 0.1249 - acc: 0.9713 - val_loss: 0.0994 - val_acc: 0.9771\n",
    "# Epoch 17/100\n",
    "# 157507/157507 [==============================] - 19s 121us/step - loss: 0.1254 - acc: 0.9718 - val_loss: 0.0520 - val_acc: 0.9961\n",
    "# Epoch 18/100\n",
    "# 157507/157507 [==============================] - 19s 121us/step - loss: 0.1237 - acc: 0.9730 - val_loss: 0.0629 - val_acc: 0.9929\n",
    "# Epoch 19/100\n",
    "# 157507/157507 [==============================] - 19s 121us/step - loss: 0.1227 - acc: 0.9735 - val_loss: 0.0695 - val_acc: 0.9966\n",
    "# Epoch 20/100\n",
    "# 157507/157507 [==============================] - 19s 121us/step - loss: 0.1250 - acc: 0.9732 - val_loss: 0.0628 - val_acc: 0.9955\n",
    "# Epoch 21/100\n",
    "# 157507/157507 [==============================] - 19s 121us/step - loss: 0.1231 - acc: 0.9737 - val_loss: 0.0720 - val_acc: 0.9919\n",
    "# Epoch 22/100\n",
    "# 157507/157507 [==============================] - 19s 121us/step - loss: 0.1236 - acc: 0.9740 - val_loss: 0.0734 - val_acc: 0.9913\n",
    "# Epoch 23/100\n",
    "# 157507/157507 [==============================] - 19s 121us/step - loss: 0.1225 - acc: 0.9740 - val_loss: 0.0665 - val_acc: 0.9965\n",
    "# Epoch 24/100\n",
    "# 157507/157507 [==============================] - 19s 121us/step - loss: 0.1287 - acc: 0.9729 - val_loss: 0.0649 - val_acc: 0.9969\n",
    "# Epoch 25/100\n",
    "# 157507/157507 [==============================] - 19s 121us/step - loss: 0.1227 - acc: 0.9742 - val_loss: 0.1085 - val_acc: 0.9699\n",
    "# Epoch 26/100\n",
    "# 157507/157507 [==============================] - 19s 121us/step - loss: 0.1275 - acc: 0.9731 - val_loss: 0.0737 - val_acc: 0.9915\n",
    "# Epoch 27/100\n",
    "# 157507/157507 [==============================] - 19s 121us/step - loss: 0.1263 - acc: 0.9728 - val_loss: 0.0740 - val_acc: 0.9929\n",
    "# Epoch 28/100\n",
    "# 157507/157507 [==============================] - 19s 121us/step - loss: 0.1219 - acc: 0.9740 - val_loss: 0.0650 - val_acc: 0.9967\n",
    "# Epoch 29/100\n",
    "# 157507/157507 [==============================] - 19s 121us/step - loss: 0.1269 - acc: 0.9732 - val_loss: 0.0646 - val_acc: 0.9974\n",
    "# Epoch 30/100\n",
    "# 157507/157507 [==============================] - 19s 121us/step - loss: 0.1247 - acc: 0.9739 - val_loss: 0.0710 - val_acc: 0.9961\n",
    "# Epoch 31/100\n",
    "# 157507/157507 [==============================] - 19s 121us/step - loss: 0.1233 - acc: 0.9736 - val_loss: 0.0731 - val_acc: 0.9910\n",
    "# Epoch 32/100\n",
    "# 157507/157507 [==============================] - 19s 122us/step - loss: 0.1262 - acc: 0.9731 - val_loss: 0.0795 - val_acc: 0.9858\n",
    "# Epoch 33/100\n",
    "# 157507/157507 [==============================] - 19s 121us/step - loss: 0.1220 - acc: 0.9741 - val_loss: 0.1127 - val_acc: 0.9685\n",
    "# Epoch 34/100\n",
    "# 157507/157507 [==============================] - 19s 121us/step - loss: 0.1243 - acc: 0.9738 - val_loss: 0.1144 - val_acc: 0.9688\n",
    "# Epoch 35/100\n",
    "# 157507/157507 [==============================] - 19s 121us/step - loss: 0.1243 - acc: 0.9733 - val_loss: 0.0652 - val_acc: 0.9963\n",
    "# Epoch 36/100\n",
    "# 157507/157507 [==============================] - 19s 121us/step - loss: 0.1267 - acc: 0.9729 - val_loss: 0.1060 - val_acc: 0.9715\n",
    "# Epoch 37/100\n",
    "# 157507/157507 [==============================] - 19s 122us/step - loss: 0.1289 - acc: 0.9724 - val_loss: 0.0652 - val_acc: 0.9969\n",
    "# Epoch 38/100\n",
    "# 157507/157507 [==============================] - 19s 121us/step - loss: 0.1250 - acc: 0.9736 - val_loss: 0.1824 - val_acc: 0.9449\n",
    "# Epoch 39/100\n",
    "# 157507/157507 [==============================] - 19s 121us/step - loss: 0.1252 - acc: 0.9736 - val_loss: 0.0563 - val_acc: 0.9968\n",
    "# Epoch 40/100\n",
    "# 157507/157507 [==============================] - 19s 121us/step - loss: 0.1267 - acc: 0.9731 - val_loss: 0.0627 - val_acc: 0.9962\n",
    "# Epoch 41/100\n",
    "# 157507/157507 [==============================] - 19s 121us/step - loss: 0.1311 - acc: 0.9716 - val_loss: 0.0801 - val_acc: 0.9912\n",
    "# Epoch 42/100\n",
    "# 157507/157507 [==============================] - 19s 122us/step - loss: 0.1292 - acc: 0.9727 - val_loss: 0.0809 - val_acc: 0.9850\n",
    "# Epoch 43/100\n",
    "# 157507/157507 [==============================] - 19s 119us/step - loss: 0.1254 - acc: 0.9735 - val_loss: 0.0739 - val_acc: 0.9905\n",
    "# Epoch 44/100\n",
    "# 157507/157507 [==============================] - 19s 120us/step - loss: 0.1259 - acc: 0.9729 - val_loss: 0.0923 - val_acc: 0.9762\n",
    "# Epoch 45/100\n",
    "# 157507/157507 [==============================] - 19s 119us/step - loss: 0.1274 - acc: 0.9723 - val_loss: 0.0603 - val_acc: 0.9966\n",
    "# Epoch 46/100\n",
    "# 157507/157507 [==============================] - 19s 119us/step - loss: 0.1287 - acc: 0.9724 - val_loss: 0.0632 - val_acc: 0.9955\n",
    "# Epoch 47/100\n",
    "# 157507/157507 [==============================] - 19s 119us/step - loss: 0.1263 - acc: 0.9731 - val_loss: 0.1004 - val_acc: 0.9745\n",
    "# Epoch 48/100\n",
    "# 157507/157507 [==============================] - 19s 120us/step - loss: 0.1303 - acc: 0.9721 - val_loss: 0.0993 - val_acc: 0.9767\n",
    "# Epoch 49/100\n",
    "# 157507/157507 [==============================] - 19s 119us/step - loss: 0.1292 - acc: 0.9726 - val_loss: 0.0726 - val_acc: 0.9951\n",
    "# Epoch 50/100\n",
    "# \n",
    "# 157507/157507 [==============================] - 19s 117us/step - loss: 0.1317 - acc: 0.9719 - val_loss: 0.0693 - val_acc: 0.9929\n",
    "# Epoch 51/100\n",
    "# 157507/157507 [==============================] - 18s 117us/step - loss: 0.1297 - acc: 0.9725 - val_loss: 0.0753 - val_acc: 0.9956\n",
    "# Epoch 52/100\n",
    "# 157507/157507 [==============================] - 18s 117us/step - loss: 0.1298 - acc: 0.9721 - val_loss: 0.0696 - val_acc: 0.9943\n",
    "# Epoch 53/100\n",
    "# 157507/157507 [==============================] - 19s 118us/step - loss: 0.1262 - acc: 0.9734 - val_loss: 0.0664 - val_acc: 0.9951\n",
    "# Epoch 54/100\n",
    "# 157507/157507 [==============================] - 19s 118us/step - loss: 0.1314 - acc: 0.9717 - val_loss: 0.0954 - val_acc: 0.9802\n",
    "# Epoch 55/100\n",
    "# 157507/157507 [==============================] - 19s 118us/step - loss: 0.1285 - acc: 0.9729 - val_loss: 0.0719 - val_acc: 0.9934\n",
    "# Epoch 56/100\n",
    "# 157507/157507 [==============================] - 18s 117us/step - loss: 0.1313 - acc: 0.9722 - val_loss: 0.0672 - val_acc: 0.9974\n",
    "# Epoch 57/100\n",
    "# 157507/157507 [==============================] - 19s 117us/step - loss: 0.1349 - acc: 0.9710 - val_loss: 0.0708 - val_acc: 0.9954\n",
    "# Epoch 58/100\n",
    "# 157507/157507 [==============================] - 19s 118us/step - loss: 0.1316 - acc: 0.9721 - val_loss: 0.0807 - val_acc: 0.9919\n",
    "# Epoch 59/100\n",
    "# 157507/157507 [==============================] - 18s 117us/step - loss: 0.1358 - acc: 0.9710 - val_loss: 0.0782 - val_acc: 0.9905\n",
    "# Epoch 60/100\n",
    "# 157507/157507 [==============================] - 19s 118us/step - loss: 0.1308 - acc: 0.9726 - val_loss: 0.0657 - val_acc: 0.9970\n",
    "# Epoch 61/100\n",
    "# 157507/157507 [==============================] - 18s 117us/step - loss: 0.1314 - acc: 0.9723 - val_loss: 0.1155 - val_acc: 0.9713\n",
    "# Epoch 62/100\n",
    "# 157507/157507 [==============================] - 18s 117us/step - loss: 0.1322 - acc: 0.9717 - val_loss: 0.0844 - val_acc: 0.9868\n",
    "# Epoch 63/100\n",
    "# 157507/157507 [==============================] - 18s 117us/step - loss: 0.1353 - acc: 0.9712 - val_loss: 0.0764 - val_acc: 0.9939\n",
    "# Epoch 64/100\n",
    "# 157507/157507 [==============================] - 18s 117us/step - loss: 0.1315 - acc: 0.9725 - val_loss: 0.0911 - val_acc: 0.9898\n",
    "# Epoch 65/100\n",
    "# 157507/157507 [==============================] - 18s 117us/step - loss: 0.1350 - acc: 0.9716 - val_loss: 0.0884 - val_acc: 0.9819\n",
    "# Epoch 66/100\n",
    "# 157507/157507 [==============================] - 19s 118us/step - loss: 0.1318 - acc: 0.9725 - val_loss: 0.0626 - val_acc: 0.9990\n",
    "# Epoch 67/100\n",
    "# 157507/157507 [==============================] - 19s 118us/step - loss: 0.1310 - acc: 0.9725 - val_loss: 0.0684 - val_acc: 0.9961\n",
    "# Epoch 68/100\n",
    "# 157507/157507 [==============================] - 19s 118us/step - loss: 0.1370 - acc: 0.9710 - val_loss: 0.0738 - val_acc: 0.9953\n",
    "# Epoch 69/100\n",
    "# 157507/157507 [==============================] - 19s 117us/step - loss: 0.1293 - acc: 0.9732 - val_loss: 0.0621 - val_acc: 0.9975\n",
    "# Epoch 70/100\n",
    "# 157507/157507 [==============================] - 18s 117us/step - loss: 0.1300 - acc: 0.9722 - val_loss: 0.1574 - val_acc: 0.9546\n",
    "# Epoch 71/100\n",
    "# 157507/157507 [==============================] - 18s 117us/step - loss: 0.1358 - acc: 0.9710 - val_loss: 0.0709 - val_acc: 0.9942\n",
    "# Epoch 72/100\n",
    "# 157507/157507 [==============================] - 18s 117us/step - loss: 0.1318 - acc: 0.9719 - val_loss: 0.0786 - val_acc: 0.9938\n",
    "# Epoch 73/100\n",
    "# 157507/157507 [==============================] - 19s 119us/step - loss: 0.1302 - acc: 0.9724 - val_loss: 0.0899 - val_acc: 0.9844\n",
    "# Epoch 74/100\n",
    "# 157507/157507 [==============================] - 18s 117us/step - loss: 0.1321 - acc: 0.9720 - val_loss: 0.0633 - val_acc: 0.9971\n",
    "# Epoch 75/100\n",
    "# 157507/157507 [==============================] - 19s 118us/step - loss: 0.1326 - acc: 0.9722 - val_loss: 0.0602 - val_acc: 0.9988\n",
    "# Epoch 76/100\n",
    "# 157507/157507 [==============================] - 19s 118us/step - loss: 0.1367 - acc: 0.9706 - val_loss: 0.1133 - val_acc: 0.9719\n",
    "# Epoch 77/100\n",
    "# 157507/157507 [==============================] - 19s 118us/step - loss: 0.1355 - acc: 0.9710 - val_loss: 0.1601 - val_acc: 0.9649\n",
    "# Epoch 78/100\n",
    "# 157507/157507 [==============================] - 19s 118us/step - loss: 0.1379 - acc: 0.9706 - val_loss: 0.0949 - val_acc: 0.9801\n",
    "# Epoch 79/100\n",
    "# 157507/157507 [==============================] - 19s 118us/step - loss: 0.1332 - acc: 0.9718 - val_loss: 0.0719 - val_acc: 0.9965\n",
    "# Epoch 80/100\n",
    "# 157507/157507 [==============================] - 19s 118us/step - loss: 0.1313 - acc: 0.9725 - val_loss: 0.1003 - val_acc: 0.9814\n",
    "# Epoch 81/100\n",
    "# 157507/157507 [==============================] - 19s 118us/step - loss: 0.1332 - acc: 0.9715 - val_loss: 0.1599 - val_acc: 0.9484\n",
    "# Epoch 82/100\n",
    "# 157507/157507 [==============================] - 19s 118us/step - loss: 0.1301 - acc: 0.9729 - val_loss: 0.0635 - val_acc: 0.9971\n",
    "# Epoch 83/100\n",
    "# 157507/157507 [==============================] - 19s 118us/step - loss: 0.1275 - acc: 0.9735 - val_loss: 0.0685 - val_acc: 0.9949\n",
    "# Epoch 84/100\n",
    "# 157507/157507 [==============================] - 19s 118us/step - loss: 0.1302 - acc: 0.9727 - val_loss: 0.0604 - val_acc: 0.9981\n",
    "# Epoch 85/100\n",
    "# 157507/157507 [==============================] - 19s 118us/step - loss: 0.1378 - acc: 0.9707 - val_loss: 0.0912 - val_acc: 0.9841\n",
    "# Epoch 86/100\n",
    "# 157507/157507 [==============================] - 19s 119us/step - loss: 0.1315 - acc: 0.9721 - val_loss: 0.0662 - val_acc: 0.9966\n",
    "# Epoch 87/100\n",
    "# 157507/157507 [==============================] - 19s 118us/step - loss: 0.1299 - acc: 0.9724 - val_loss: 0.0684 - val_acc: 0.9966\n",
    "# Epoch 88/100\n",
    "# 157507/157507 [==============================] - 19s 118us/step - loss: 0.1310 - acc: 0.9723 - val_loss: 0.0677 - val_acc: 0.9965\n",
    "# Epoch 89/100\n",
    "# 157507/157507 [==============================] - 19s 118us/step - loss: 0.1339 - acc: 0.9715 - val_loss: 0.1302 - val_acc: 0.9651\n",
    "# Epoch 90/100\n",
    "# 157507/157507 [==============================] - 19s 118us/step - loss: 0.1348 - acc: 0.9713 - val_loss: 0.0742 - val_acc: 0.9958\n",
    "# Epoch 91/100\n",
    "# 157507/157507 [==============================] - 19s 118us/step - loss: 0.1334 - acc: 0.9719 - val_loss: 0.0917 - val_acc: 0.9821\n",
    "# Epoch 92/100\n",
    "# 157507/157507 [==============================] - 19s 119us/step - loss: 0.1347 - acc: 0.9716 - val_loss: 0.1232 - val_acc: 0.9695\n",
    "# Epoch 93/100\n",
    "# 157507/157507 [==============================] - 19s 118us/step - loss: 0.1330 - acc: 0.9721 - val_loss: 0.0658 - val_acc: 0.9960\n",
    "# Epoch 94/100\n",
    "# 157507/157507 [==============================] - 19s 118us/step - loss: 0.1300 - acc: 0.9730 - val_loss: 0.0879 - val_acc: 0.9863\n",
    "# Epoch 95/100\n",
    "# 157507/157507 [==============================] - 19s 118us/step - loss: 0.1347 - acc: 0.9710 - val_loss: 0.1257 - val_acc: 0.9642\n",
    "# Epoch 96/100\n",
    "# 157507/157507 [==============================] - 19s 118us/step - loss: 0.1329 - acc: 0.9721 - val_loss: 0.0861 - val_acc: 0.9886\n",
    "# Epoch 97/100\n",
    "# 157507/157507 [==============================] - 19s 118us/step - loss: 0.1313 - acc: 0.9721 - val_loss: 0.0626 - val_acc: 0.9974\n",
    "# Epoch 98/100\n",
    "# 157507/157507 [==============================] - 19s 119us/step - loss: 0.1341 - acc: 0.9718 - val_loss: 0.0991 - val_acc: 0.9795\n",
    "# Epoch 99/100\n",
    "# 157507/157507 [==============================] - 19s 119us/step - loss: 0.1249 - acc: 0.9744 - val_loss: 0.0676 - val_acc: 0.9953\n",
    "# Epoch 100/100\n",
    "# 157507/157507 [==============================] - 19s 118us/step - loss: 0.1339 - acc: 0.9717 - val_loss: 0.1170 - val_acc: 0.9734\n",
    "# Training Accuracy:  0.9713788547736781\n",
    "# Validation Accuracy:  0.9866407609447043\n",
    "# ============================================================================="
   ]
  },
  {
   "cell_type": "markdown",
   "metadata": {},
   "source": [
    "The following is an example of the prediction: I used Duke and Arizona for example."
   ]
  },
  {
   "cell_type": "code",
   "execution_count": 28,
   "metadata": {
    "ExecuteTime": {
     "end_time": "2019-08-14T03:48:50.276121Z",
     "start_time": "2019-08-14T03:48:33.685651Z"
    }
   },
   "outputs": [
    {
     "name": "stderr",
     "output_type": "stream",
     "text": [
      "WARNING: Logging before flag parsing goes to stderr.\n",
      "W0813 23:48:33.688644 65768 deprecation_wrapper.py:119] From C:\\ProgramData\\Anaconda3\\lib\\site-packages\\keras\\backend\\tensorflow_backend.py:517: The name tf.placeholder is deprecated. Please use tf.compat.v1.placeholder instead.\n",
      "\n",
      "W0813 23:48:33.703602 65768 deprecation_wrapper.py:119] From C:\\ProgramData\\Anaconda3\\lib\\site-packages\\keras\\backend\\tensorflow_backend.py:4138: The name tf.random_uniform is deprecated. Please use tf.random.uniform instead.\n",
      "\n",
      "W0813 23:48:33.721554 65768 deprecation_wrapper.py:119] From C:\\ProgramData\\Anaconda3\\lib\\site-packages\\keras\\backend\\tensorflow_backend.py:131: The name tf.get_default_graph is deprecated. Please use tf.compat.v1.get_default_graph instead.\n",
      "\n",
      "W0813 23:48:33.722552 65768 deprecation_wrapper.py:119] From C:\\ProgramData\\Anaconda3\\lib\\site-packages\\keras\\backend\\tensorflow_backend.py:133: The name tf.placeholder_with_default is deprecated. Please use tf.compat.v1.placeholder_with_default instead.\n",
      "\n",
      "W0813 23:48:33.729533 65768 deprecation.py:506] From C:\\ProgramData\\Anaconda3\\lib\\site-packages\\keras\\backend\\tensorflow_backend.py:3445: calling dropout (from tensorflow.python.ops.nn_ops) with keep_prob is deprecated and will be removed in a future version.\n",
      "Instructions for updating:\n",
      "Please use `rate` instead of `keep_prob`. Rate should be set to `rate = 1 - keep_prob`.\n",
      "W0813 23:48:33.798349 65768 deprecation_wrapper.py:119] From C:\\ProgramData\\Anaconda3\\lib\\site-packages\\keras\\backend\\tensorflow_backend.py:174: The name tf.get_default_session is deprecated. Please use tf.compat.v1.get_default_session instead.\n",
      "\n",
      "W0813 23:48:33.847218 65768 deprecation_wrapper.py:119] From C:\\ProgramData\\Anaconda3\\lib\\site-packages\\keras\\optimizers.py:790: The name tf.train.Optimizer is deprecated. Please use tf.compat.v1.train.Optimizer instead.\n",
      "\n",
      "W0813 23:48:33.855198 65768 deprecation.py:323] From C:\\ProgramData\\Anaconda3\\lib\\site-packages\\tensorflow\\python\\ops\\nn_impl.py:180: add_dispatch_support.<locals>.wrapper (from tensorflow.python.ops.array_ops) is deprecated and will be removed in a future version.\n",
      "Instructions for updating:\n",
      "Use tf.where in 2.0, which has the same broadcast rule as np.where\n"
     ]
    },
    {
     "name": "stdout",
     "output_type": "stream",
     "text": [
      "Please Enter the first team name: Arizona\n",
      "Please Enter the second team name: Duke\n",
      "Estimated sigmoid output:  0.12637201\n",
      "Duke is predicted to win.\n"
     ]
    }
   ],
   "source": [
    "userInterface()"
   ]
  },
  {
   "cell_type": "code",
   "execution_count": null,
   "metadata": {},
   "outputs": [],
   "source": []
  }
 ],
 "metadata": {
  "kernelspec": {
   "display_name": "Python 3",
   "language": "python",
   "name": "python3"
  },
  "language_info": {
   "codemirror_mode": {
    "name": "ipython",
    "version": 3
   },
   "file_extension": ".py",
   "mimetype": "text/x-python",
   "name": "python",
   "nbconvert_exporter": "python",
   "pygments_lexer": "ipython3",
   "version": "3.7.3"
  },
  "latex_envs": {
   "LaTeX_envs_menu_present": true,
   "autoclose": false,
   "autocomplete": true,
   "bibliofile": "biblio.bib",
   "cite_by": "apalike",
   "current_citInitial": 1,
   "eqLabelWithNumbers": true,
   "eqNumInitial": 1,
   "hotkeys": {
    "equation": "Ctrl-E",
    "itemize": "Ctrl-I"
   },
   "labels_anchors": false,
   "latex_user_defs": false,
   "report_style_numbering": false,
   "user_envs_cfg": false
  },
  "toc": {
   "base_numbering": 1,
   "nav_menu": {},
   "number_sections": true,
   "sideBar": true,
   "skip_h1_title": false,
   "title_cell": "Table of Contents",
   "title_sidebar": "Contents",
   "toc_cell": false,
   "toc_position": {},
   "toc_section_display": true,
   "toc_window_display": false
  },
  "varInspector": {
   "cols": {
    "lenName": 16,
    "lenType": 16,
    "lenVar": 40
   },
   "kernels_config": {
    "python": {
     "delete_cmd_postfix": "",
     "delete_cmd_prefix": "del ",
     "library": "var_list.py",
     "varRefreshCmd": "print(var_dic_list())"
    },
    "r": {
     "delete_cmd_postfix": ") ",
     "delete_cmd_prefix": "rm(",
     "library": "var_list.r",
     "varRefreshCmd": "cat(var_dic_list()) "
    }
   },
   "types_to_exclude": [
    "module",
    "function",
    "builtin_function_or_method",
    "instance",
    "_Feature"
   ],
   "window_display": false
  }
 },
 "nbformat": 4,
 "nbformat_minor": 1
}

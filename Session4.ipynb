{
 "cells": [
  {
   "cell_type": "code",
   "execution_count": 5,
   "metadata": {},
   "outputs": [
    {
     "name": "stdout",
     "output_type": "stream",
     "text": [
      "Please enter a cocktail: \n",
      "Please enter a cocktail: Z\n"
     ]
    }
   ],
   "source": [
    "while True:\n",
    "    cocktail = input(\"Please enter a cocktail: \")\n",
    "    if len(cocktail) != 0:\n",
    "        if cocktail[0].upper() == 'Z':\n",
    "            break"
   ]
  },
  {
   "cell_type": "code",
   "execution_count": 8,
   "metadata": {},
   "outputs": [
    {
     "name": "stdout",
     "output_type": "stream",
     "text": [
      "Please enter a cocktail: Z\n"
     ]
    }
   ],
   "source": [
    "cocktail=\"A\"\n",
    "while cocktail[0].upper() != \"Z\":\n",
    "    cocktail = input(\"Please enter a cocktail: \")"
   ]
  },
  {
   "cell_type": "code",
   "execution_count": 2,
   "metadata": {},
   "outputs": [
    {
     "name": "stdout",
     "output_type": "stream",
     "text": [
      "Come inside,Bro\n"
     ]
    }
   ],
   "source": [
    "net_worth = 200\n",
    "diamond_watch = True\n",
    "has_six_pack = True\n",
    "is_too_drunk = True\n",
    "\n",
    "if net_worth > 5000:\n",
    "    print(\"Come inside,Bro\")    \n",
    "else:\n",
    "    if diamond_watch:\n",
    "        print(\"Come inside,Bro\")\n",
    "    elif has_six_pack:\n",
    "        if is_too_drunk:\n",
    "            print('Meet me in the back.')"
   ]
  },
  {
   "cell_type": "code",
   "execution_count": null,
   "metadata": {},
   "outputs": [],
   "source": []
  }
 ],
 "metadata": {
  "kernelspec": {
   "display_name": "Python 3",
   "language": "python",
   "name": "python3"
  },
  "language_info": {
   "codemirror_mode": {
    "name": "ipython",
    "version": 3
   },
   "file_extension": ".py",
   "mimetype": "text/x-python",
   "name": "python",
   "nbconvert_exporter": "python",
   "pygments_lexer": "ipython3",
   "version": "3.7.3"
  }
 },
 "nbformat": 4,
 "nbformat_minor": 2
}
